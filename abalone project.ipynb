{
 "cells": [
  {
   "cell_type": "markdown",
   "id": "a8a10dfb",
   "metadata": {},
   "source": [
    "# Practice Project - 4"
   ]
  },
  {
   "cell_type": "markdown",
   "id": "c555e661",
   "metadata": {},
   "source": [
    "Abalone Case Study\n",
    "Problem Statement:\n",
    "The age of abalone is determined by cutting the shell through the cone, staining it, and counting the number of rings through a microscope -- a boring and time-consuming task. Other measurements, which are easier to obtain, are used to predict the age. Further information, such as weather patterns and location (hence food availability) may be required to solve the problem.\n",
    "\n",
    "Attribute Information\n",
    "\n",
    "Given is the attribute name, attribute type, the measurement unit and a brief description. The number of rings is the value to predict. \n",
    "\n",
    "Name / Data Type / Measurement Unit / Description\n",
    "-----------------------------\n",
    "Sex / nominal / -- / M, F, and I (infant)\n",
    "Length / continuous / mm / Longest shell measurement\n",
    "Diameter / continuous / mm / perpendicular to length\n",
    "Height / continuous / mm / with meat in shell\n",
    "Whole weight / continuous / grams / whole abalone\n",
    "Shucked weight / continuous / grams / weight of meat\n",
    "Viscera weight / continuous / grams / gut weight (after bleeding)\n",
    "Shell weight / continuous / grams / after being dried\n",
    "Rings / integer / -- / +1.5 gives the age in years. \n",
    "\n",
    "You have to predict the rings of each abalone which will lead us to the age of that abalone. "
   ]
  },
  {
   "cell_type": "code",
   "execution_count": 1,
   "id": "59af0de7",
   "metadata": {},
   "outputs": [],
   "source": [
    "import pandas as pd \n",
    "import numpy as np \n",
    "import matplotlib.pyplot as plt \n",
    "import seaborn as sns"
   ]
  },
  {
   "cell_type": "code",
   "execution_count": 2,
   "id": "33504862",
   "metadata": {},
   "outputs": [
    {
     "data": {
      "text/html": [
       "<div>\n",
       "<style scoped>\n",
       "    .dataframe tbody tr th:only-of-type {\n",
       "        vertical-align: middle;\n",
       "    }\n",
       "\n",
       "    .dataframe tbody tr th {\n",
       "        vertical-align: top;\n",
       "    }\n",
       "\n",
       "    .dataframe thead th {\n",
       "        text-align: right;\n",
       "    }\n",
       "</style>\n",
       "<table border=\"1\" class=\"dataframe\">\n",
       "  <thead>\n",
       "    <tr style=\"text-align: right;\">\n",
       "      <th></th>\n",
       "      <th>Sex</th>\n",
       "      <th>Length</th>\n",
       "      <th>Diameter</th>\n",
       "      <th>Height</th>\n",
       "      <th>Whole weight</th>\n",
       "      <th>Shucked weight</th>\n",
       "      <th>Viscera weight</th>\n",
       "      <th>Shell weight</th>\n",
       "      <th>Rings</th>\n",
       "    </tr>\n",
       "  </thead>\n",
       "  <tbody>\n",
       "    <tr>\n",
       "      <th>0</th>\n",
       "      <td>M</td>\n",
       "      <td>0.455</td>\n",
       "      <td>0.365</td>\n",
       "      <td>0.095</td>\n",
       "      <td>0.5140</td>\n",
       "      <td>0.2245</td>\n",
       "      <td>0.1010</td>\n",
       "      <td>0.150</td>\n",
       "      <td>15</td>\n",
       "    </tr>\n",
       "    <tr>\n",
       "      <th>1</th>\n",
       "      <td>M</td>\n",
       "      <td>0.350</td>\n",
       "      <td>0.265</td>\n",
       "      <td>0.090</td>\n",
       "      <td>0.2255</td>\n",
       "      <td>0.0995</td>\n",
       "      <td>0.0485</td>\n",
       "      <td>0.070</td>\n",
       "      <td>7</td>\n",
       "    </tr>\n",
       "    <tr>\n",
       "      <th>2</th>\n",
       "      <td>F</td>\n",
       "      <td>0.530</td>\n",
       "      <td>0.420</td>\n",
       "      <td>0.135</td>\n",
       "      <td>0.6770</td>\n",
       "      <td>0.2565</td>\n",
       "      <td>0.1415</td>\n",
       "      <td>0.210</td>\n",
       "      <td>9</td>\n",
       "    </tr>\n",
       "    <tr>\n",
       "      <th>3</th>\n",
       "      <td>M</td>\n",
       "      <td>0.440</td>\n",
       "      <td>0.365</td>\n",
       "      <td>0.125</td>\n",
       "      <td>0.5160</td>\n",
       "      <td>0.2155</td>\n",
       "      <td>0.1140</td>\n",
       "      <td>0.155</td>\n",
       "      <td>10</td>\n",
       "    </tr>\n",
       "    <tr>\n",
       "      <th>4</th>\n",
       "      <td>I</td>\n",
       "      <td>0.330</td>\n",
       "      <td>0.255</td>\n",
       "      <td>0.080</td>\n",
       "      <td>0.2050</td>\n",
       "      <td>0.0895</td>\n",
       "      <td>0.0395</td>\n",
       "      <td>0.055</td>\n",
       "      <td>7</td>\n",
       "    </tr>\n",
       "    <tr>\n",
       "      <th>5</th>\n",
       "      <td>I</td>\n",
       "      <td>0.425</td>\n",
       "      <td>0.300</td>\n",
       "      <td>0.095</td>\n",
       "      <td>0.3515</td>\n",
       "      <td>0.1410</td>\n",
       "      <td>0.0775</td>\n",
       "      <td>0.120</td>\n",
       "      <td>8</td>\n",
       "    </tr>\n",
       "    <tr>\n",
       "      <th>6</th>\n",
       "      <td>F</td>\n",
       "      <td>0.530</td>\n",
       "      <td>0.415</td>\n",
       "      <td>0.150</td>\n",
       "      <td>0.7775</td>\n",
       "      <td>0.2370</td>\n",
       "      <td>0.1415</td>\n",
       "      <td>0.330</td>\n",
       "      <td>20</td>\n",
       "    </tr>\n",
       "    <tr>\n",
       "      <th>7</th>\n",
       "      <td>F</td>\n",
       "      <td>0.545</td>\n",
       "      <td>0.425</td>\n",
       "      <td>0.125</td>\n",
       "      <td>0.7680</td>\n",
       "      <td>0.2940</td>\n",
       "      <td>0.1495</td>\n",
       "      <td>0.260</td>\n",
       "      <td>16</td>\n",
       "    </tr>\n",
       "    <tr>\n",
       "      <th>8</th>\n",
       "      <td>M</td>\n",
       "      <td>0.475</td>\n",
       "      <td>0.370</td>\n",
       "      <td>0.125</td>\n",
       "      <td>0.5095</td>\n",
       "      <td>0.2165</td>\n",
       "      <td>0.1125</td>\n",
       "      <td>0.165</td>\n",
       "      <td>9</td>\n",
       "    </tr>\n",
       "    <tr>\n",
       "      <th>9</th>\n",
       "      <td>F</td>\n",
       "      <td>0.550</td>\n",
       "      <td>0.440</td>\n",
       "      <td>0.150</td>\n",
       "      <td>0.8945</td>\n",
       "      <td>0.3145</td>\n",
       "      <td>0.1510</td>\n",
       "      <td>0.320</td>\n",
       "      <td>19</td>\n",
       "    </tr>\n",
       "    <tr>\n",
       "      <th>10</th>\n",
       "      <td>F</td>\n",
       "      <td>0.525</td>\n",
       "      <td>0.380</td>\n",
       "      <td>0.140</td>\n",
       "      <td>0.6065</td>\n",
       "      <td>0.1940</td>\n",
       "      <td>0.1475</td>\n",
       "      <td>0.210</td>\n",
       "      <td>14</td>\n",
       "    </tr>\n",
       "    <tr>\n",
       "      <th>11</th>\n",
       "      <td>M</td>\n",
       "      <td>0.430</td>\n",
       "      <td>0.350</td>\n",
       "      <td>0.110</td>\n",
       "      <td>0.4060</td>\n",
       "      <td>0.1675</td>\n",
       "      <td>0.0810</td>\n",
       "      <td>0.135</td>\n",
       "      <td>10</td>\n",
       "    </tr>\n",
       "    <tr>\n",
       "      <th>12</th>\n",
       "      <td>M</td>\n",
       "      <td>0.490</td>\n",
       "      <td>0.380</td>\n",
       "      <td>0.135</td>\n",
       "      <td>0.5415</td>\n",
       "      <td>0.2175</td>\n",
       "      <td>0.0950</td>\n",
       "      <td>0.190</td>\n",
       "      <td>11</td>\n",
       "    </tr>\n",
       "    <tr>\n",
       "      <th>13</th>\n",
       "      <td>F</td>\n",
       "      <td>0.535</td>\n",
       "      <td>0.405</td>\n",
       "      <td>0.145</td>\n",
       "      <td>0.6845</td>\n",
       "      <td>0.2725</td>\n",
       "      <td>0.1710</td>\n",
       "      <td>0.205</td>\n",
       "      <td>10</td>\n",
       "    </tr>\n",
       "    <tr>\n",
       "      <th>14</th>\n",
       "      <td>F</td>\n",
       "      <td>0.470</td>\n",
       "      <td>0.355</td>\n",
       "      <td>0.100</td>\n",
       "      <td>0.4755</td>\n",
       "      <td>0.1675</td>\n",
       "      <td>0.0805</td>\n",
       "      <td>0.185</td>\n",
       "      <td>10</td>\n",
       "    </tr>\n",
       "    <tr>\n",
       "      <th>15</th>\n",
       "      <td>M</td>\n",
       "      <td>0.500</td>\n",
       "      <td>0.400</td>\n",
       "      <td>0.130</td>\n",
       "      <td>0.6645</td>\n",
       "      <td>0.2580</td>\n",
       "      <td>0.1330</td>\n",
       "      <td>0.240</td>\n",
       "      <td>12</td>\n",
       "    </tr>\n",
       "    <tr>\n",
       "      <th>16</th>\n",
       "      <td>I</td>\n",
       "      <td>0.355</td>\n",
       "      <td>0.280</td>\n",
       "      <td>0.085</td>\n",
       "      <td>0.2905</td>\n",
       "      <td>0.0950</td>\n",
       "      <td>0.0395</td>\n",
       "      <td>0.115</td>\n",
       "      <td>7</td>\n",
       "    </tr>\n",
       "    <tr>\n",
       "      <th>17</th>\n",
       "      <td>F</td>\n",
       "      <td>0.440</td>\n",
       "      <td>0.340</td>\n",
       "      <td>0.100</td>\n",
       "      <td>0.4510</td>\n",
       "      <td>0.1880</td>\n",
       "      <td>0.0870</td>\n",
       "      <td>0.130</td>\n",
       "      <td>10</td>\n",
       "    </tr>\n",
       "    <tr>\n",
       "      <th>18</th>\n",
       "      <td>M</td>\n",
       "      <td>0.365</td>\n",
       "      <td>0.295</td>\n",
       "      <td>0.080</td>\n",
       "      <td>0.2555</td>\n",
       "      <td>0.0970</td>\n",
       "      <td>0.0430</td>\n",
       "      <td>0.100</td>\n",
       "      <td>7</td>\n",
       "    </tr>\n",
       "    <tr>\n",
       "      <th>19</th>\n",
       "      <td>M</td>\n",
       "      <td>0.450</td>\n",
       "      <td>0.320</td>\n",
       "      <td>0.100</td>\n",
       "      <td>0.3810</td>\n",
       "      <td>0.1705</td>\n",
       "      <td>0.0750</td>\n",
       "      <td>0.115</td>\n",
       "      <td>9</td>\n",
       "    </tr>\n",
       "    <tr>\n",
       "      <th>20</th>\n",
       "      <td>M</td>\n",
       "      <td>0.355</td>\n",
       "      <td>0.280</td>\n",
       "      <td>0.095</td>\n",
       "      <td>0.2455</td>\n",
       "      <td>0.0955</td>\n",
       "      <td>0.0620</td>\n",
       "      <td>0.075</td>\n",
       "      <td>11</td>\n",
       "    </tr>\n",
       "    <tr>\n",
       "      <th>21</th>\n",
       "      <td>I</td>\n",
       "      <td>0.380</td>\n",
       "      <td>0.275</td>\n",
       "      <td>0.100</td>\n",
       "      <td>0.2255</td>\n",
       "      <td>0.0800</td>\n",
       "      <td>0.0490</td>\n",
       "      <td>0.085</td>\n",
       "      <td>10</td>\n",
       "    </tr>\n",
       "    <tr>\n",
       "      <th>22</th>\n",
       "      <td>F</td>\n",
       "      <td>0.565</td>\n",
       "      <td>0.440</td>\n",
       "      <td>0.155</td>\n",
       "      <td>0.9395</td>\n",
       "      <td>0.4275</td>\n",
       "      <td>0.2140</td>\n",
       "      <td>0.270</td>\n",
       "      <td>12</td>\n",
       "    </tr>\n",
       "    <tr>\n",
       "      <th>23</th>\n",
       "      <td>F</td>\n",
       "      <td>0.550</td>\n",
       "      <td>0.415</td>\n",
       "      <td>0.135</td>\n",
       "      <td>0.7635</td>\n",
       "      <td>0.3180</td>\n",
       "      <td>0.2100</td>\n",
       "      <td>0.200</td>\n",
       "      <td>9</td>\n",
       "    </tr>\n",
       "    <tr>\n",
       "      <th>24</th>\n",
       "      <td>F</td>\n",
       "      <td>0.615</td>\n",
       "      <td>0.480</td>\n",
       "      <td>0.165</td>\n",
       "      <td>1.1615</td>\n",
       "      <td>0.5130</td>\n",
       "      <td>0.3010</td>\n",
       "      <td>0.305</td>\n",
       "      <td>10</td>\n",
       "    </tr>\n",
       "  </tbody>\n",
       "</table>\n",
       "</div>"
      ],
      "text/plain": [
       "   Sex  Length  Diameter  Height  Whole weight  Shucked weight  \\\n",
       "0    M   0.455     0.365   0.095        0.5140          0.2245   \n",
       "1    M   0.350     0.265   0.090        0.2255          0.0995   \n",
       "2    F   0.530     0.420   0.135        0.6770          0.2565   \n",
       "3    M   0.440     0.365   0.125        0.5160          0.2155   \n",
       "4    I   0.330     0.255   0.080        0.2050          0.0895   \n",
       "5    I   0.425     0.300   0.095        0.3515          0.1410   \n",
       "6    F   0.530     0.415   0.150        0.7775          0.2370   \n",
       "7    F   0.545     0.425   0.125        0.7680          0.2940   \n",
       "8    M   0.475     0.370   0.125        0.5095          0.2165   \n",
       "9    F   0.550     0.440   0.150        0.8945          0.3145   \n",
       "10   F   0.525     0.380   0.140        0.6065          0.1940   \n",
       "11   M   0.430     0.350   0.110        0.4060          0.1675   \n",
       "12   M   0.490     0.380   0.135        0.5415          0.2175   \n",
       "13   F   0.535     0.405   0.145        0.6845          0.2725   \n",
       "14   F   0.470     0.355   0.100        0.4755          0.1675   \n",
       "15   M   0.500     0.400   0.130        0.6645          0.2580   \n",
       "16   I   0.355     0.280   0.085        0.2905          0.0950   \n",
       "17   F   0.440     0.340   0.100        0.4510          0.1880   \n",
       "18   M   0.365     0.295   0.080        0.2555          0.0970   \n",
       "19   M   0.450     0.320   0.100        0.3810          0.1705   \n",
       "20   M   0.355     0.280   0.095        0.2455          0.0955   \n",
       "21   I   0.380     0.275   0.100        0.2255          0.0800   \n",
       "22   F   0.565     0.440   0.155        0.9395          0.4275   \n",
       "23   F   0.550     0.415   0.135        0.7635          0.3180   \n",
       "24   F   0.615     0.480   0.165        1.1615          0.5130   \n",
       "\n",
       "    Viscera weight  Shell weight  Rings  \n",
       "0           0.1010         0.150     15  \n",
       "1           0.0485         0.070      7  \n",
       "2           0.1415         0.210      9  \n",
       "3           0.1140         0.155     10  \n",
       "4           0.0395         0.055      7  \n",
       "5           0.0775         0.120      8  \n",
       "6           0.1415         0.330     20  \n",
       "7           0.1495         0.260     16  \n",
       "8           0.1125         0.165      9  \n",
       "9           0.1510         0.320     19  \n",
       "10          0.1475         0.210     14  \n",
       "11          0.0810         0.135     10  \n",
       "12          0.0950         0.190     11  \n",
       "13          0.1710         0.205     10  \n",
       "14          0.0805         0.185     10  \n",
       "15          0.1330         0.240     12  \n",
       "16          0.0395         0.115      7  \n",
       "17          0.0870         0.130     10  \n",
       "18          0.0430         0.100      7  \n",
       "19          0.0750         0.115      9  \n",
       "20          0.0620         0.075     11  \n",
       "21          0.0490         0.085     10  \n",
       "22          0.2140         0.270     12  \n",
       "23          0.2100         0.200      9  \n",
       "24          0.3010         0.305     10  "
      ]
     },
     "execution_count": 2,
     "metadata": {},
     "output_type": "execute_result"
    }
   ],
   "source": [
    "df=pd.read_csv(\"abalone.csv\")\n",
    "df.iloc[0:25]"
   ]
  },
  {
   "cell_type": "code",
   "execution_count": 3,
   "id": "405f92b0",
   "metadata": {},
   "outputs": [
    {
     "data": {
      "text/plain": [
       "M    1528\n",
       "I    1342\n",
       "F    1307\n",
       "Name: Sex, dtype: int64"
      ]
     },
     "execution_count": 3,
     "metadata": {},
     "output_type": "execute_result"
    }
   ],
   "source": [
    "df[\"Sex\"].value_counts()"
   ]
  },
  {
   "cell_type": "code",
   "execution_count": 4,
   "id": "c23428c6",
   "metadata": {},
   "outputs": [
    {
     "data": {
      "text/html": [
       "<div>\n",
       "<style scoped>\n",
       "    .dataframe tbody tr th:only-of-type {\n",
       "        vertical-align: middle;\n",
       "    }\n",
       "\n",
       "    .dataframe tbody tr th {\n",
       "        vertical-align: top;\n",
       "    }\n",
       "\n",
       "    .dataframe thead th {\n",
       "        text-align: right;\n",
       "    }\n",
       "</style>\n",
       "<table border=\"1\" class=\"dataframe\">\n",
       "  <thead>\n",
       "    <tr style=\"text-align: right;\">\n",
       "      <th></th>\n",
       "      <th>Sex</th>\n",
       "      <th>Length</th>\n",
       "      <th>Diameter</th>\n",
       "      <th>Height</th>\n",
       "      <th>Whole weight</th>\n",
       "      <th>Shucked weight</th>\n",
       "      <th>Viscera weight</th>\n",
       "      <th>Shell weight</th>\n",
       "      <th>Rings</th>\n",
       "    </tr>\n",
       "  </thead>\n",
       "  <tbody>\n",
       "    <tr>\n",
       "      <th>0</th>\n",
       "      <td>False</td>\n",
       "      <td>False</td>\n",
       "      <td>False</td>\n",
       "      <td>False</td>\n",
       "      <td>False</td>\n",
       "      <td>False</td>\n",
       "      <td>False</td>\n",
       "      <td>False</td>\n",
       "      <td>False</td>\n",
       "    </tr>\n",
       "    <tr>\n",
       "      <th>1</th>\n",
       "      <td>False</td>\n",
       "      <td>False</td>\n",
       "      <td>False</td>\n",
       "      <td>False</td>\n",
       "      <td>False</td>\n",
       "      <td>False</td>\n",
       "      <td>False</td>\n",
       "      <td>False</td>\n",
       "      <td>False</td>\n",
       "    </tr>\n",
       "    <tr>\n",
       "      <th>2</th>\n",
       "      <td>False</td>\n",
       "      <td>False</td>\n",
       "      <td>False</td>\n",
       "      <td>False</td>\n",
       "      <td>False</td>\n",
       "      <td>False</td>\n",
       "      <td>False</td>\n",
       "      <td>False</td>\n",
       "      <td>False</td>\n",
       "    </tr>\n",
       "    <tr>\n",
       "      <th>3</th>\n",
       "      <td>False</td>\n",
       "      <td>False</td>\n",
       "      <td>False</td>\n",
       "      <td>False</td>\n",
       "      <td>False</td>\n",
       "      <td>False</td>\n",
       "      <td>False</td>\n",
       "      <td>False</td>\n",
       "      <td>False</td>\n",
       "    </tr>\n",
       "    <tr>\n",
       "      <th>4</th>\n",
       "      <td>False</td>\n",
       "      <td>False</td>\n",
       "      <td>False</td>\n",
       "      <td>False</td>\n",
       "      <td>False</td>\n",
       "      <td>False</td>\n",
       "      <td>False</td>\n",
       "      <td>False</td>\n",
       "      <td>False</td>\n",
       "    </tr>\n",
       "    <tr>\n",
       "      <th>...</th>\n",
       "      <td>...</td>\n",
       "      <td>...</td>\n",
       "      <td>...</td>\n",
       "      <td>...</td>\n",
       "      <td>...</td>\n",
       "      <td>...</td>\n",
       "      <td>...</td>\n",
       "      <td>...</td>\n",
       "      <td>...</td>\n",
       "    </tr>\n",
       "    <tr>\n",
       "      <th>4172</th>\n",
       "      <td>False</td>\n",
       "      <td>False</td>\n",
       "      <td>False</td>\n",
       "      <td>False</td>\n",
       "      <td>False</td>\n",
       "      <td>False</td>\n",
       "      <td>False</td>\n",
       "      <td>False</td>\n",
       "      <td>False</td>\n",
       "    </tr>\n",
       "    <tr>\n",
       "      <th>4173</th>\n",
       "      <td>False</td>\n",
       "      <td>False</td>\n",
       "      <td>False</td>\n",
       "      <td>False</td>\n",
       "      <td>False</td>\n",
       "      <td>False</td>\n",
       "      <td>False</td>\n",
       "      <td>False</td>\n",
       "      <td>False</td>\n",
       "    </tr>\n",
       "    <tr>\n",
       "      <th>4174</th>\n",
       "      <td>False</td>\n",
       "      <td>False</td>\n",
       "      <td>False</td>\n",
       "      <td>False</td>\n",
       "      <td>False</td>\n",
       "      <td>False</td>\n",
       "      <td>False</td>\n",
       "      <td>False</td>\n",
       "      <td>False</td>\n",
       "    </tr>\n",
       "    <tr>\n",
       "      <th>4175</th>\n",
       "      <td>False</td>\n",
       "      <td>False</td>\n",
       "      <td>False</td>\n",
       "      <td>False</td>\n",
       "      <td>False</td>\n",
       "      <td>False</td>\n",
       "      <td>False</td>\n",
       "      <td>False</td>\n",
       "      <td>False</td>\n",
       "    </tr>\n",
       "    <tr>\n",
       "      <th>4176</th>\n",
       "      <td>False</td>\n",
       "      <td>False</td>\n",
       "      <td>False</td>\n",
       "      <td>False</td>\n",
       "      <td>False</td>\n",
       "      <td>False</td>\n",
       "      <td>False</td>\n",
       "      <td>False</td>\n",
       "      <td>False</td>\n",
       "    </tr>\n",
       "  </tbody>\n",
       "</table>\n",
       "<p>4177 rows × 9 columns</p>\n",
       "</div>"
      ],
      "text/plain": [
       "        Sex  Length  Diameter  Height  Whole weight  Shucked weight  \\\n",
       "0     False   False     False   False         False           False   \n",
       "1     False   False     False   False         False           False   \n",
       "2     False   False     False   False         False           False   \n",
       "3     False   False     False   False         False           False   \n",
       "4     False   False     False   False         False           False   \n",
       "...     ...     ...       ...     ...           ...             ...   \n",
       "4172  False   False     False   False         False           False   \n",
       "4173  False   False     False   False         False           False   \n",
       "4174  False   False     False   False         False           False   \n",
       "4175  False   False     False   False         False           False   \n",
       "4176  False   False     False   False         False           False   \n",
       "\n",
       "      Viscera weight  Shell weight  Rings  \n",
       "0              False         False  False  \n",
       "1              False         False  False  \n",
       "2              False         False  False  \n",
       "3              False         False  False  \n",
       "4              False         False  False  \n",
       "...              ...           ...    ...  \n",
       "4172           False         False  False  \n",
       "4173           False         False  False  \n",
       "4174           False         False  False  \n",
       "4175           False         False  False  \n",
       "4176           False         False  False  \n",
       "\n",
       "[4177 rows x 9 columns]"
      ]
     },
     "execution_count": 4,
     "metadata": {},
     "output_type": "execute_result"
    }
   ],
   "source": [
    "df.isnull()"
   ]
  },
  {
   "cell_type": "code",
   "execution_count": 5,
   "id": "4fc56fd2",
   "metadata": {},
   "outputs": [
    {
     "data": {
      "text/plain": [
       "Sex               0\n",
       "Length            0\n",
       "Diameter          0\n",
       "Height            0\n",
       "Whole weight      0\n",
       "Shucked weight    0\n",
       "Viscera weight    0\n",
       "Shell weight      0\n",
       "Rings             0\n",
       "dtype: int64"
      ]
     },
     "execution_count": 5,
     "metadata": {},
     "output_type": "execute_result"
    }
   ],
   "source": [
    "df.isnull().sum()"
   ]
  },
  {
   "cell_type": "code",
   "execution_count": 6,
   "id": "afac50ad",
   "metadata": {},
   "outputs": [
    {
     "data": {
      "text/plain": [
       "<AxesSubplot:>"
      ]
     },
     "execution_count": 6,
     "metadata": {},
     "output_type": "execute_result"
    },
    {
     "data": {
      "image/png": "[encoded data removed]",
      "text/plain": [
       "<Figure size 432x288 with 2 Axes>"
      ]
     },
     "metadata": {
      "needs_background": "light"
     },
     "output_type": "display_data"
    }
   ],
   "source": [
    "sns.heatmap(df.isnull())"
   ]
  },
  {
   "cell_type": "markdown",
   "id": "0dd5d9b0",
   "metadata": {},
   "source": [
    "NO NaN values pressent"
   ]
  },
  {
   "cell_type": "markdown",
   "id": "ef8ef3df",
   "metadata": {},
   "source": [
    "# EDA"
   ]
  },
  {
   "cell_type": "code",
   "execution_count": 7,
   "id": "8829468e",
   "metadata": {},
   "outputs": [
    {
     "data": {
      "text/plain": [
       "<AxesSubplot:xlabel='Sex', ylabel='count'>"
      ]
     },
     "execution_count": 7,
     "metadata": {},
     "output_type": "execute_result"
    },
    {
     "data": {
      "image/png": "[encoded data removed]",
      "text/plain": [
       "<Figure size 432x288 with 1 Axes>"
      ]
     },
     "metadata": {
      "needs_background": "light"
     },
     "output_type": "display_data"
    }
   ],
   "source": [
    "sns.countplot(x=\"Sex\",data=df)"
   ]
  },
  {
   "cell_type": "code",
   "execution_count": 8,
   "id": "51196990",
   "metadata": {},
   "outputs": [
    {
     "data": {
      "text/plain": [
       "<AxesSubplot:xlabel='Height'>"
      ]
     },
     "execution_count": 8,
     "metadata": {},
     "output_type": "execute_result"
    },
    {
     "data": {
      "image/png": "[encoded data removed]",
      "text/plain": [
       "<Figure size 432x288 with 1 Axes>"
      ]
     },
     "metadata": {
      "needs_background": "light"
     },
     "output_type": "display_data"
    }
   ],
   "source": [
    "sns.stripplot(x=\"Height\",data=df)"
   ]
  },
  {
   "cell_type": "code",
   "execution_count": 9,
   "id": "37f5f384",
   "metadata": {},
   "outputs": [
    {
     "data": {
      "text/plain": [
       "<AxesSubplot:xlabel='Length'>"
      ]
     },
     "execution_count": 9,
     "metadata": {},
     "output_type": "execute_result"
    },
    {
     "data": {
      "image/png": "[encoded data removed]",
      "text/plain": [
       "<Figure size 432x288 with 1 Axes>"
      ]
     },
     "metadata": {
      "needs_background": "light"
     },
     "output_type": "display_data"
    }
   ],
   "source": [
    "sns.stripplot(x=\"Length\",data=df)"
   ]
  },
  {
   "cell_type": "code",
   "execution_count": 10,
   "id": "eb995964",
   "metadata": {},
   "outputs": [
    {
     "data": {
      "text/plain": [
       "<AxesSubplot:xlabel='Diameter'>"
      ]
     },
     "execution_count": 10,
     "metadata": {},
     "output_type": "execute_result"
    },
    {
     "data": {
      "image/png": "[encoded data removed]",
      "text/plain": [
       "<Figure size 432x288 with 1 Axes>"
      ]
     },
     "metadata": {
      "needs_background": "light"
     },
     "output_type": "display_data"
    }
   ],
   "source": [
    "sns.stripplot(x=\"Diameter\",data=df)"
   ]
  },
  {
   "cell_type": "code",
   "execution_count": 11,
   "id": "4c74cd08",
   "metadata": {},
   "outputs": [
    {
     "data": {
      "text/plain": [
       "<AxesSubplot:xlabel='Whole weight'>"
      ]
     },
     "execution_count": 11,
     "metadata": {},
     "output_type": "execute_result"
    },
    {
     "data": {
      "image/png": "[encoded data removed]",
      "text/plain": [
       "<Figure size 432x288 with 1 Axes>"
      ]
     },
     "metadata": {
      "needs_background": "light"
     },
     "output_type": "display_data"
    }
   ],
   "source": [
    "sns.stripplot(x=\"Whole weight\",data=df)"
   ]
  },
  {
   "cell_type": "code",
   "execution_count": 12,
   "id": "bbaeaef2",
   "metadata": {},
   "outputs": [
    {
     "data": {
      "text/plain": [
       "<AxesSubplot:xlabel='Shucked weight'>"
      ]
     },
     "execution_count": 12,
     "metadata": {},
     "output_type": "execute_result"
    },
    {
     "data": {
      "image/png": "[encoded data removed]",
      "text/plain": [
       "<Figure size 432x288 with 1 Axes>"
      ]
     },
     "metadata": {
      "needs_background": "light"
     },
     "output_type": "display_data"
    }
   ],
   "source": [
    "sns.stripplot(x=\"Shucked weight\",data=df)"
   ]
  },
  {
   "cell_type": "code",
   "execution_count": 13,
   "id": "57db6699",
   "metadata": {},
   "outputs": [
    {
     "data": {
      "text/plain": [
       "<AxesSubplot:xlabel='Viscera weight'>"
      ]
     },
     "execution_count": 13,
     "metadata": {},
     "output_type": "execute_result"
    },
    {
     "data": {
      "image/png": "[encoded data removed]",
      "text/plain": [
       "<Figure size 432x288 with 1 Axes>"
      ]
     },
     "metadata": {
      "needs_background": "light"
     },
     "output_type": "display_data"
    }
   ],
   "source": [
    "sns.stripplot(x=\"Viscera weight\",data=df)"
   ]
  },
  {
   "cell_type": "code",
   "execution_count": 14,
   "id": "dff720b9",
   "metadata": {},
   "outputs": [
    {
     "data": {
      "text/plain": [
       "<AxesSubplot:xlabel='Shell weight'>"
      ]
     },
     "execution_count": 14,
     "metadata": {},
     "output_type": "execute_result"
    },
    {
     "data": {
      "image/png": "[encoded data removed]",
      "text/plain": [
       "<Figure size 432x288 with 1 Axes>"
      ]
     },
     "metadata": {
      "needs_background": "light"
     },
     "output_type": "display_data"
    }
   ],
   "source": [
    "sns.stripplot(x=\"Shell weight\",data=df)"
   ]
  },
  {
   "cell_type": "markdown",
   "id": "d3b6f3d4",
   "metadata": {},
   "source": [
    "# MISSING DATA ANALYSIS"
   ]
  },
  {
   "cell_type": "code",
   "execution_count": 15,
   "id": "229a3ecd",
   "metadata": {},
   "outputs": [
    {
     "data": {
      "text/html": [
       "<div>\n",
       "<style scoped>\n",
       "    .dataframe tbody tr th:only-of-type {\n",
       "        vertical-align: middle;\n",
       "    }\n",
       "\n",
       "    .dataframe tbody tr th {\n",
       "        vertical-align: top;\n",
       "    }\n",
       "\n",
       "    .dataframe thead th {\n",
       "        text-align: right;\n",
       "    }\n",
       "</style>\n",
       "<table border=\"1\" class=\"dataframe\">\n",
       "  <thead>\n",
       "    <tr style=\"text-align: right;\">\n",
       "      <th></th>\n",
       "      <th>Sex</th>\n",
       "      <th>Length</th>\n",
       "      <th>Diameter</th>\n",
       "      <th>Height</th>\n",
       "      <th>Whole weight</th>\n",
       "      <th>Shucked weight</th>\n",
       "      <th>Viscera weight</th>\n",
       "      <th>Shell weight</th>\n",
       "      <th>Rings</th>\n",
       "    </tr>\n",
       "  </thead>\n",
       "  <tbody>\n",
       "  </tbody>\n",
       "</table>\n",
       "</div>"
      ],
      "text/plain": [
       "Empty DataFrame\n",
       "Columns: [Sex, Length, Diameter, Height, Whole weight, Shucked weight, Viscera weight, Shell weight, Rings]\n",
       "Index: []"
      ]
     },
     "execution_count": 15,
     "metadata": {},
     "output_type": "execute_result"
    }
   ],
   "source": [
    "df[(df[\"Shell weight\"]==\" \")|(df[\"Shell weight\"]==0)]"
   ]
  },
  {
   "cell_type": "code",
   "execution_count": 16,
   "id": "4fbdc854",
   "metadata": {},
   "outputs": [
    {
     "data": {
      "text/html": [
       "<div>\n",
       "<style scoped>\n",
       "    .dataframe tbody tr th:only-of-type {\n",
       "        vertical-align: middle;\n",
       "    }\n",
       "\n",
       "    .dataframe tbody tr th {\n",
       "        vertical-align: top;\n",
       "    }\n",
       "\n",
       "    .dataframe thead th {\n",
       "        text-align: right;\n",
       "    }\n",
       "</style>\n",
       "<table border=\"1\" class=\"dataframe\">\n",
       "  <thead>\n",
       "    <tr style=\"text-align: right;\">\n",
       "      <th></th>\n",
       "      <th>Sex</th>\n",
       "      <th>Length</th>\n",
       "      <th>Diameter</th>\n",
       "      <th>Height</th>\n",
       "      <th>Whole weight</th>\n",
       "      <th>Shucked weight</th>\n",
       "      <th>Viscera weight</th>\n",
       "      <th>Shell weight</th>\n",
       "      <th>Rings</th>\n",
       "    </tr>\n",
       "  </thead>\n",
       "  <tbody>\n",
       "    <tr>\n",
       "      <th>1257</th>\n",
       "      <td>I</td>\n",
       "      <td>0.430</td>\n",
       "      <td>0.34</td>\n",
       "      <td>0.0</td>\n",
       "      <td>0.428</td>\n",
       "      <td>0.2065</td>\n",
       "      <td>0.0860</td>\n",
       "      <td>0.1150</td>\n",
       "      <td>8</td>\n",
       "    </tr>\n",
       "    <tr>\n",
       "      <th>3996</th>\n",
       "      <td>I</td>\n",
       "      <td>0.315</td>\n",
       "      <td>0.23</td>\n",
       "      <td>0.0</td>\n",
       "      <td>0.134</td>\n",
       "      <td>0.0575</td>\n",
       "      <td>0.0285</td>\n",
       "      <td>0.3505</td>\n",
       "      <td>6</td>\n",
       "    </tr>\n",
       "  </tbody>\n",
       "</table>\n",
       "</div>"
      ],
      "text/plain": [
       "     Sex  Length  Diameter  Height  Whole weight  Shucked weight  \\\n",
       "1257   I   0.430      0.34     0.0         0.428          0.2065   \n",
       "3996   I   0.315      0.23     0.0         0.134          0.0575   \n",
       "\n",
       "      Viscera weight  Shell weight  Rings  \n",
       "1257          0.0860        0.1150      8  \n",
       "3996          0.0285        0.3505      6  "
      ]
     },
     "execution_count": 16,
     "metadata": {},
     "output_type": "execute_result"
    }
   ],
   "source": [
    "df[(df[\"Height\"]==\" \")|(df[\"Height\"]==0)]"
   ]
  },
  {
   "cell_type": "markdown",
   "id": "fca9e944",
   "metadata": {},
   "source": [
    "Height=0 is not possible."
   ]
  },
  {
   "cell_type": "code",
   "execution_count": 17,
   "id": "b19ad2b2",
   "metadata": {},
   "outputs": [
    {
     "data": {
      "text/html": [
       "<div>\n",
       "<style scoped>\n",
       "    .dataframe tbody tr th:only-of-type {\n",
       "        vertical-align: middle;\n",
       "    }\n",
       "\n",
       "    .dataframe tbody tr th {\n",
       "        vertical-align: top;\n",
       "    }\n",
       "\n",
       "    .dataframe thead th {\n",
       "        text-align: right;\n",
       "    }\n",
       "</style>\n",
       "<table border=\"1\" class=\"dataframe\">\n",
       "  <thead>\n",
       "    <tr style=\"text-align: right;\">\n",
       "      <th></th>\n",
       "      <th>Sex</th>\n",
       "      <th>Length</th>\n",
       "      <th>Diameter</th>\n",
       "      <th>Height</th>\n",
       "      <th>Whole weight</th>\n",
       "      <th>Shucked weight</th>\n",
       "      <th>Viscera weight</th>\n",
       "      <th>Shell weight</th>\n",
       "      <th>Rings</th>\n",
       "    </tr>\n",
       "  </thead>\n",
       "  <tbody>\n",
       "  </tbody>\n",
       "</table>\n",
       "</div>"
      ],
      "text/plain": [
       "Empty DataFrame\n",
       "Columns: [Sex, Length, Diameter, Height, Whole weight, Shucked weight, Viscera weight, Shell weight, Rings]\n",
       "Index: []"
      ]
     },
     "execution_count": 17,
     "metadata": {},
     "output_type": "execute_result"
    }
   ],
   "source": [
    "df[(df[\"Length\"]==\" \")|(df[\"Length\"]==0)]"
   ]
  },
  {
   "cell_type": "code",
   "execution_count": 18,
   "id": "c58113e4",
   "metadata": {},
   "outputs": [
    {
     "data": {
      "text/html": [
       "<div>\n",
       "<style scoped>\n",
       "    .dataframe tbody tr th:only-of-type {\n",
       "        vertical-align: middle;\n",
       "    }\n",
       "\n",
       "    .dataframe tbody tr th {\n",
       "        vertical-align: top;\n",
       "    }\n",
       "\n",
       "    .dataframe thead th {\n",
       "        text-align: right;\n",
       "    }\n",
       "</style>\n",
       "<table border=\"1\" class=\"dataframe\">\n",
       "  <thead>\n",
       "    <tr style=\"text-align: right;\">\n",
       "      <th></th>\n",
       "      <th>Sex</th>\n",
       "      <th>Length</th>\n",
       "      <th>Diameter</th>\n",
       "      <th>Height</th>\n",
       "      <th>Whole weight</th>\n",
       "      <th>Shucked weight</th>\n",
       "      <th>Viscera weight</th>\n",
       "      <th>Shell weight</th>\n",
       "      <th>Rings</th>\n",
       "    </tr>\n",
       "  </thead>\n",
       "  <tbody>\n",
       "  </tbody>\n",
       "</table>\n",
       "</div>"
      ],
      "text/plain": [
       "Empty DataFrame\n",
       "Columns: [Sex, Length, Diameter, Height, Whole weight, Shucked weight, Viscera weight, Shell weight, Rings]\n",
       "Index: []"
      ]
     },
     "execution_count": 18,
     "metadata": {},
     "output_type": "execute_result"
    }
   ],
   "source": [
    "df[(df[\"Diameter\"]==\" \")|(df[\"Diameter\"]==0)]"
   ]
  },
  {
   "cell_type": "code",
   "execution_count": 19,
   "id": "0245c1b1",
   "metadata": {},
   "outputs": [
    {
     "data": {
      "text/html": [
       "<div>\n",
       "<style scoped>\n",
       "    .dataframe tbody tr th:only-of-type {\n",
       "        vertical-align: middle;\n",
       "    }\n",
       "\n",
       "    .dataframe tbody tr th {\n",
       "        vertical-align: top;\n",
       "    }\n",
       "\n",
       "    .dataframe thead th {\n",
       "        text-align: right;\n",
       "    }\n",
       "</style>\n",
       "<table border=\"1\" class=\"dataframe\">\n",
       "  <thead>\n",
       "    <tr style=\"text-align: right;\">\n",
       "      <th></th>\n",
       "      <th>Sex</th>\n",
       "      <th>Length</th>\n",
       "      <th>Diameter</th>\n",
       "      <th>Height</th>\n",
       "      <th>Whole weight</th>\n",
       "      <th>Shucked weight</th>\n",
       "      <th>Viscera weight</th>\n",
       "      <th>Shell weight</th>\n",
       "      <th>Rings</th>\n",
       "    </tr>\n",
       "  </thead>\n",
       "  <tbody>\n",
       "  </tbody>\n",
       "</table>\n",
       "</div>"
      ],
      "text/plain": [
       "Empty DataFrame\n",
       "Columns: [Sex, Length, Diameter, Height, Whole weight, Shucked weight, Viscera weight, Shell weight, Rings]\n",
       "Index: []"
      ]
     },
     "execution_count": 19,
     "metadata": {},
     "output_type": "execute_result"
    }
   ],
   "source": [
    "df[(df[\"Viscera weight\"]==\" \")|(df[\"Viscera weight\"]==0)]"
   ]
  },
  {
   "cell_type": "code",
   "execution_count": 20,
   "id": "6f05b56b",
   "metadata": {},
   "outputs": [],
   "source": [
    "df[\"Height\"]=df[\"Height\"].replace(0,np.nan)"
   ]
  },
  {
   "cell_type": "code",
   "execution_count": 21,
   "id": "4d655898",
   "metadata": {},
   "outputs": [
    {
     "data": {
      "text/plain": [
       "Sex               0\n",
       "Length            0\n",
       "Diameter          0\n",
       "Height            2\n",
       "Whole weight      0\n",
       "Shucked weight    0\n",
       "Viscera weight    0\n",
       "Shell weight      0\n",
       "Rings             0\n",
       "dtype: int64"
      ]
     },
     "execution_count": 21,
     "metadata": {},
     "output_type": "execute_result"
    }
   ],
   "source": [
    "df.isnull().sum()"
   ]
  },
  {
   "cell_type": "code",
   "execution_count": 22,
   "id": "b128f88d",
   "metadata": {},
   "outputs": [],
   "source": [
    "df[\"Height\"]=df[\"Height\"].fillna(np.mean(df[\"Height\"]))"
   ]
  },
  {
   "cell_type": "code",
   "execution_count": 23,
   "id": "5b416b62",
   "metadata": {},
   "outputs": [
    {
     "data": {
      "text/plain": [
       "Sex               0\n",
       "Length            0\n",
       "Diameter          0\n",
       "Height            0\n",
       "Whole weight      0\n",
       "Shucked weight    0\n",
       "Viscera weight    0\n",
       "Shell weight      0\n",
       "Rings             0\n",
       "dtype: int64"
      ]
     },
     "execution_count": 23,
     "metadata": {},
     "output_type": "execute_result"
    }
   ],
   "source": [
    "df.isnull().sum()"
   ]
  },
  {
   "cell_type": "markdown",
   "id": "a7af9cbc",
   "metadata": {},
   "source": [
    "HEIGHT=0 IS REPLACED BY MEAN VALUE"
   ]
  },
  {
   "cell_type": "markdown",
   "id": "3d57a74c",
   "metadata": {},
   "source": [
    "# Label Encoder\n"
   ]
  },
  {
   "cell_type": "code",
   "execution_count": 24,
   "id": "3fa0962f",
   "metadata": {},
   "outputs": [],
   "source": [
    "import sklearn \n",
    "from sklearn.preprocessing import LabelEncoder"
   ]
  },
  {
   "cell_type": "code",
   "execution_count": 25,
   "id": "1cb2bc46",
   "metadata": {},
   "outputs": [
    {
     "data": {
      "text/html": [
       "<div>\n",
       "<style scoped>\n",
       "    .dataframe tbody tr th:only-of-type {\n",
       "        vertical-align: middle;\n",
       "    }\n",
       "\n",
       "    .dataframe tbody tr th {\n",
       "        vertical-align: top;\n",
       "    }\n",
       "\n",
       "    .dataframe thead th {\n",
       "        text-align: right;\n",
       "    }\n",
       "</style>\n",
       "<table border=\"1\" class=\"dataframe\">\n",
       "  <thead>\n",
       "    <tr style=\"text-align: right;\">\n",
       "      <th></th>\n",
       "      <th>Sex</th>\n",
       "      <th>Length</th>\n",
       "      <th>Diameter</th>\n",
       "      <th>Height</th>\n",
       "      <th>Whole weight</th>\n",
       "      <th>Shucked weight</th>\n",
       "      <th>Viscera weight</th>\n",
       "      <th>Shell weight</th>\n",
       "      <th>Rings</th>\n",
       "    </tr>\n",
       "  </thead>\n",
       "  <tbody>\n",
       "    <tr>\n",
       "      <th>0</th>\n",
       "      <td>2</td>\n",
       "      <td>0.455</td>\n",
       "      <td>0.365</td>\n",
       "      <td>0.095</td>\n",
       "      <td>0.5140</td>\n",
       "      <td>0.2245</td>\n",
       "      <td>0.1010</td>\n",
       "      <td>0.1500</td>\n",
       "      <td>15</td>\n",
       "    </tr>\n",
       "    <tr>\n",
       "      <th>1</th>\n",
       "      <td>2</td>\n",
       "      <td>0.350</td>\n",
       "      <td>0.265</td>\n",
       "      <td>0.090</td>\n",
       "      <td>0.2255</td>\n",
       "      <td>0.0995</td>\n",
       "      <td>0.0485</td>\n",
       "      <td>0.0700</td>\n",
       "      <td>7</td>\n",
       "    </tr>\n",
       "    <tr>\n",
       "      <th>2</th>\n",
       "      <td>0</td>\n",
       "      <td>0.530</td>\n",
       "      <td>0.420</td>\n",
       "      <td>0.135</td>\n",
       "      <td>0.6770</td>\n",
       "      <td>0.2565</td>\n",
       "      <td>0.1415</td>\n",
       "      <td>0.2100</td>\n",
       "      <td>9</td>\n",
       "    </tr>\n",
       "    <tr>\n",
       "      <th>3</th>\n",
       "      <td>2</td>\n",
       "      <td>0.440</td>\n",
       "      <td>0.365</td>\n",
       "      <td>0.125</td>\n",
       "      <td>0.5160</td>\n",
       "      <td>0.2155</td>\n",
       "      <td>0.1140</td>\n",
       "      <td>0.1550</td>\n",
       "      <td>10</td>\n",
       "    </tr>\n",
       "    <tr>\n",
       "      <th>4</th>\n",
       "      <td>1</td>\n",
       "      <td>0.330</td>\n",
       "      <td>0.255</td>\n",
       "      <td>0.080</td>\n",
       "      <td>0.2050</td>\n",
       "      <td>0.0895</td>\n",
       "      <td>0.0395</td>\n",
       "      <td>0.0550</td>\n",
       "      <td>7</td>\n",
       "    </tr>\n",
       "    <tr>\n",
       "      <th>...</th>\n",
       "      <td>...</td>\n",
       "      <td>...</td>\n",
       "      <td>...</td>\n",
       "      <td>...</td>\n",
       "      <td>...</td>\n",
       "      <td>...</td>\n",
       "      <td>...</td>\n",
       "      <td>...</td>\n",
       "      <td>...</td>\n",
       "    </tr>\n",
       "    <tr>\n",
       "      <th>4172</th>\n",
       "      <td>0</td>\n",
       "      <td>0.565</td>\n",
       "      <td>0.450</td>\n",
       "      <td>0.165</td>\n",
       "      <td>0.8870</td>\n",
       "      <td>0.3700</td>\n",
       "      <td>0.2390</td>\n",
       "      <td>0.2490</td>\n",
       "      <td>11</td>\n",
       "    </tr>\n",
       "    <tr>\n",
       "      <th>4173</th>\n",
       "      <td>2</td>\n",
       "      <td>0.590</td>\n",
       "      <td>0.440</td>\n",
       "      <td>0.135</td>\n",
       "      <td>0.9660</td>\n",
       "      <td>0.4390</td>\n",
       "      <td>0.2145</td>\n",
       "      <td>0.2605</td>\n",
       "      <td>10</td>\n",
       "    </tr>\n",
       "    <tr>\n",
       "      <th>4174</th>\n",
       "      <td>2</td>\n",
       "      <td>0.600</td>\n",
       "      <td>0.475</td>\n",
       "      <td>0.205</td>\n",
       "      <td>1.1760</td>\n",
       "      <td>0.5255</td>\n",
       "      <td>0.2875</td>\n",
       "      <td>0.3080</td>\n",
       "      <td>9</td>\n",
       "    </tr>\n",
       "    <tr>\n",
       "      <th>4175</th>\n",
       "      <td>0</td>\n",
       "      <td>0.625</td>\n",
       "      <td>0.485</td>\n",
       "      <td>0.150</td>\n",
       "      <td>1.0945</td>\n",
       "      <td>0.5310</td>\n",
       "      <td>0.2610</td>\n",
       "      <td>0.2960</td>\n",
       "      <td>10</td>\n",
       "    </tr>\n",
       "    <tr>\n",
       "      <th>4176</th>\n",
       "      <td>2</td>\n",
       "      <td>0.710</td>\n",
       "      <td>0.555</td>\n",
       "      <td>0.195</td>\n",
       "      <td>1.9485</td>\n",
       "      <td>0.9455</td>\n",
       "      <td>0.3765</td>\n",
       "      <td>0.4950</td>\n",
       "      <td>12</td>\n",
       "    </tr>\n",
       "  </tbody>\n",
       "</table>\n",
       "<p>4177 rows × 9 columns</p>\n",
       "</div>"
      ],
      "text/plain": [
       "      Sex  Length  Diameter  Height  Whole weight  Shucked weight  \\\n",
       "0       2   0.455     0.365   0.095        0.5140          0.2245   \n",
       "1       2   0.350     0.265   0.090        0.2255          0.0995   \n",
       "2       0   0.530     0.420   0.135        0.6770          0.2565   \n",
       "3       2   0.440     0.365   0.125        0.5160          0.2155   \n",
       "4       1   0.330     0.255   0.080        0.2050          0.0895   \n",
       "...   ...     ...       ...     ...           ...             ...   \n",
       "4172    0   0.565     0.450   0.165        0.8870          0.3700   \n",
       "4173    2   0.590     0.440   0.135        0.9660          0.4390   \n",
       "4174    2   0.600     0.475   0.205        1.1760          0.5255   \n",
       "4175    0   0.625     0.485   0.150        1.0945          0.5310   \n",
       "4176    2   0.710     0.555   0.195        1.9485          0.9455   \n",
       "\n",
       "      Viscera weight  Shell weight  Rings  \n",
       "0             0.1010        0.1500     15  \n",
       "1             0.0485        0.0700      7  \n",
       "2             0.1415        0.2100      9  \n",
       "3             0.1140        0.1550     10  \n",
       "4             0.0395        0.0550      7  \n",
       "...              ...           ...    ...  \n",
       "4172          0.2390        0.2490     11  \n",
       "4173          0.2145        0.2605     10  \n",
       "4174          0.2875        0.3080      9  \n",
       "4175          0.2610        0.2960     10  \n",
       "4176          0.3765        0.4950     12  \n",
       "\n",
       "[4177 rows x 9 columns]"
      ]
     },
     "execution_count": 25,
     "metadata": {},
     "output_type": "execute_result"
    }
   ],
   "source": [
    "lencode=LabelEncoder()\n",
    "df[\"Sex\"]=lencode.fit_transform(df[\"Sex\"])\n",
    "df"
   ]
  },
  {
   "cell_type": "code",
   "execution_count": 26,
   "id": "ec7c3322",
   "metadata": {},
   "outputs": [
    {
     "data": {
      "text/html": [
       "<div>\n",
       "<style scoped>\n",
       "    .dataframe tbody tr th:only-of-type {\n",
       "        vertical-align: middle;\n",
       "    }\n",
       "\n",
       "    .dataframe tbody tr th {\n",
       "        vertical-align: top;\n",
       "    }\n",
       "\n",
       "    .dataframe thead th {\n",
       "        text-align: right;\n",
       "    }\n",
       "</style>\n",
       "<table border=\"1\" class=\"dataframe\">\n",
       "  <thead>\n",
       "    <tr style=\"text-align: right;\">\n",
       "      <th></th>\n",
       "      <th>Sex</th>\n",
       "      <th>Length</th>\n",
       "      <th>Diameter</th>\n",
       "      <th>Height</th>\n",
       "      <th>Whole weight</th>\n",
       "      <th>Shucked weight</th>\n",
       "      <th>Viscera weight</th>\n",
       "      <th>Shell weight</th>\n",
       "      <th>Rings</th>\n",
       "    </tr>\n",
       "  </thead>\n",
       "  <tbody>\n",
       "    <tr>\n",
       "      <th>Sex</th>\n",
       "      <td>1.000000</td>\n",
       "      <td>-0.036066</td>\n",
       "      <td>-0.038874</td>\n",
       "      <td>-0.042293</td>\n",
       "      <td>-0.021391</td>\n",
       "      <td>-0.001373</td>\n",
       "      <td>-0.032067</td>\n",
       "      <td>-0.034854</td>\n",
       "      <td>-0.034627</td>\n",
       "    </tr>\n",
       "    <tr>\n",
       "      <th>Length</th>\n",
       "      <td>-0.036066</td>\n",
       "      <td>1.000000</td>\n",
       "      <td>0.986812</td>\n",
       "      <td>0.827747</td>\n",
       "      <td>0.925261</td>\n",
       "      <td>0.897914</td>\n",
       "      <td>0.903018</td>\n",
       "      <td>0.897706</td>\n",
       "      <td>0.556720</td>\n",
       "    </tr>\n",
       "    <tr>\n",
       "      <th>Diameter</th>\n",
       "      <td>-0.038874</td>\n",
       "      <td>0.986812</td>\n",
       "      <td>1.000000</td>\n",
       "      <td>0.833931</td>\n",
       "      <td>0.925452</td>\n",
       "      <td>0.893162</td>\n",
       "      <td>0.899724</td>\n",
       "      <td>0.905330</td>\n",
       "      <td>0.574660</td>\n",
       "    </tr>\n",
       "    <tr>\n",
       "      <th>Height</th>\n",
       "      <td>-0.042293</td>\n",
       "      <td>0.827747</td>\n",
       "      <td>0.833931</td>\n",
       "      <td>1.000000</td>\n",
       "      <td>0.819623</td>\n",
       "      <td>0.775405</td>\n",
       "      <td>0.798653</td>\n",
       "      <td>0.819455</td>\n",
       "      <td>0.557501</td>\n",
       "    </tr>\n",
       "    <tr>\n",
       "      <th>Whole weight</th>\n",
       "      <td>-0.021391</td>\n",
       "      <td>0.925261</td>\n",
       "      <td>0.925452</td>\n",
       "      <td>0.819623</td>\n",
       "      <td>1.000000</td>\n",
       "      <td>0.969405</td>\n",
       "      <td>0.966375</td>\n",
       "      <td>0.955355</td>\n",
       "      <td>0.540390</td>\n",
       "    </tr>\n",
       "    <tr>\n",
       "      <th>Shucked weight</th>\n",
       "      <td>-0.001373</td>\n",
       "      <td>0.897914</td>\n",
       "      <td>0.893162</td>\n",
       "      <td>0.775405</td>\n",
       "      <td>0.969405</td>\n",
       "      <td>1.000000</td>\n",
       "      <td>0.931961</td>\n",
       "      <td>0.882617</td>\n",
       "      <td>0.420884</td>\n",
       "    </tr>\n",
       "    <tr>\n",
       "      <th>Viscera weight</th>\n",
       "      <td>-0.032067</td>\n",
       "      <td>0.903018</td>\n",
       "      <td>0.899724</td>\n",
       "      <td>0.798653</td>\n",
       "      <td>0.966375</td>\n",
       "      <td>0.931961</td>\n",
       "      <td>1.000000</td>\n",
       "      <td>0.907656</td>\n",
       "      <td>0.503819</td>\n",
       "    </tr>\n",
       "    <tr>\n",
       "      <th>Shell weight</th>\n",
       "      <td>-0.034854</td>\n",
       "      <td>0.897706</td>\n",
       "      <td>0.905330</td>\n",
       "      <td>0.819455</td>\n",
       "      <td>0.955355</td>\n",
       "      <td>0.882617</td>\n",
       "      <td>0.907656</td>\n",
       "      <td>1.000000</td>\n",
       "      <td>0.627574</td>\n",
       "    </tr>\n",
       "    <tr>\n",
       "      <th>Rings</th>\n",
       "      <td>-0.034627</td>\n",
       "      <td>0.556720</td>\n",
       "      <td>0.574660</td>\n",
       "      <td>0.557501</td>\n",
       "      <td>0.540390</td>\n",
       "      <td>0.420884</td>\n",
       "      <td>0.503819</td>\n",
       "      <td>0.627574</td>\n",
       "      <td>1.000000</td>\n",
       "    </tr>\n",
       "  </tbody>\n",
       "</table>\n",
       "</div>"
      ],
      "text/plain": [
       "                     Sex    Length  Diameter    Height  Whole weight  \\\n",
       "Sex             1.000000 -0.036066 -0.038874 -0.042293     -0.021391   \n",
       "Length         -0.036066  1.000000  0.986812  0.827747      0.925261   \n",
       "Diameter       -0.038874  0.986812  1.000000  0.833931      0.925452   \n",
       "Height         -0.042293  0.827747  0.833931  1.000000      0.819623   \n",
       "Whole weight   -0.021391  0.925261  0.925452  0.819623      1.000000   \n",
       "Shucked weight -0.001373  0.897914  0.893162  0.775405      0.969405   \n",
       "Viscera weight -0.032067  0.903018  0.899724  0.798653      0.966375   \n",
       "Shell weight   -0.034854  0.897706  0.905330  0.819455      0.955355   \n",
       "Rings          -0.034627  0.556720  0.574660  0.557501      0.540390   \n",
       "\n",
       "                Shucked weight  Viscera weight  Shell weight     Rings  \n",
       "Sex                  -0.001373       -0.032067     -0.034854 -0.034627  \n",
       "Length                0.897914        0.903018      0.897706  0.556720  \n",
       "Diameter              0.893162        0.899724      0.905330  0.574660  \n",
       "Height                0.775405        0.798653      0.819455  0.557501  \n",
       "Whole weight          0.969405        0.966375      0.955355  0.540390  \n",
       "Shucked weight        1.000000        0.931961      0.882617  0.420884  \n",
       "Viscera weight        0.931961        1.000000      0.907656  0.503819  \n",
       "Shell weight          0.882617        0.907656      1.000000  0.627574  \n",
       "Rings                 0.420884        0.503819      0.627574  1.000000  "
      ]
     },
     "execution_count": 26,
     "metadata": {},
     "output_type": "execute_result"
    }
   ],
   "source": [
    "df.corr()"
   ]
  },
  {
   "cell_type": "markdown",
   "id": "5351077b",
   "metadata": {},
   "source": [
    "# Correlation"
   ]
  },
  {
   "cell_type": "code",
   "execution_count": 27,
   "id": "e34b17b3",
   "metadata": {},
   "outputs": [
    {
     "data": {
      "text/html": [
       "<div>\n",
       "<style scoped>\n",
       "    .dataframe tbody tr th:only-of-type {\n",
       "        vertical-align: middle;\n",
       "    }\n",
       "\n",
       "    .dataframe tbody tr th {\n",
       "        vertical-align: top;\n",
       "    }\n",
       "\n",
       "    .dataframe thead th {\n",
       "        text-align: right;\n",
       "    }\n",
       "</style>\n",
       "<table border=\"1\" class=\"dataframe\">\n",
       "  <thead>\n",
       "    <tr style=\"text-align: right;\">\n",
       "      <th></th>\n",
       "      <th>Sex</th>\n",
       "      <th>Length</th>\n",
       "      <th>Diameter</th>\n",
       "      <th>Height</th>\n",
       "      <th>Whole weight</th>\n",
       "      <th>Shucked weight</th>\n",
       "      <th>Viscera weight</th>\n",
       "      <th>Shell weight</th>\n",
       "      <th>Rings</th>\n",
       "    </tr>\n",
       "  </thead>\n",
       "  <tbody>\n",
       "    <tr>\n",
       "      <th>Sex</th>\n",
       "      <td>1.000000</td>\n",
       "      <td>-0.036066</td>\n",
       "      <td>-0.038874</td>\n",
       "      <td>-0.042293</td>\n",
       "      <td>-0.021391</td>\n",
       "      <td>-0.001373</td>\n",
       "      <td>-0.032067</td>\n",
       "      <td>-0.034854</td>\n",
       "      <td>-0.034627</td>\n",
       "    </tr>\n",
       "    <tr>\n",
       "      <th>Length</th>\n",
       "      <td>-0.036066</td>\n",
       "      <td>1.000000</td>\n",
       "      <td>0.986812</td>\n",
       "      <td>0.827747</td>\n",
       "      <td>0.925261</td>\n",
       "      <td>0.897914</td>\n",
       "      <td>0.903018</td>\n",
       "      <td>0.897706</td>\n",
       "      <td>0.556720</td>\n",
       "    </tr>\n",
       "    <tr>\n",
       "      <th>Diameter</th>\n",
       "      <td>-0.038874</td>\n",
       "      <td>0.986812</td>\n",
       "      <td>1.000000</td>\n",
       "      <td>0.833931</td>\n",
       "      <td>0.925452</td>\n",
       "      <td>0.893162</td>\n",
       "      <td>0.899724</td>\n",
       "      <td>0.905330</td>\n",
       "      <td>0.574660</td>\n",
       "    </tr>\n",
       "    <tr>\n",
       "      <th>Height</th>\n",
       "      <td>-0.042293</td>\n",
       "      <td>0.827747</td>\n",
       "      <td>0.833931</td>\n",
       "      <td>1.000000</td>\n",
       "      <td>0.819623</td>\n",
       "      <td>0.775405</td>\n",
       "      <td>0.798653</td>\n",
       "      <td>0.819455</td>\n",
       "      <td>0.557501</td>\n",
       "    </tr>\n",
       "    <tr>\n",
       "      <th>Whole weight</th>\n",
       "      <td>-0.021391</td>\n",
       "      <td>0.925261</td>\n",
       "      <td>0.925452</td>\n",
       "      <td>0.819623</td>\n",
       "      <td>1.000000</td>\n",
       "      <td>0.969405</td>\n",
       "      <td>0.966375</td>\n",
       "      <td>0.955355</td>\n",
       "      <td>0.540390</td>\n",
       "    </tr>\n",
       "    <tr>\n",
       "      <th>Shucked weight</th>\n",
       "      <td>-0.001373</td>\n",
       "      <td>0.897914</td>\n",
       "      <td>0.893162</td>\n",
       "      <td>0.775405</td>\n",
       "      <td>0.969405</td>\n",
       "      <td>1.000000</td>\n",
       "      <td>0.931961</td>\n",
       "      <td>0.882617</td>\n",
       "      <td>0.420884</td>\n",
       "    </tr>\n",
       "    <tr>\n",
       "      <th>Viscera weight</th>\n",
       "      <td>-0.032067</td>\n",
       "      <td>0.903018</td>\n",
       "      <td>0.899724</td>\n",
       "      <td>0.798653</td>\n",
       "      <td>0.966375</td>\n",
       "      <td>0.931961</td>\n",
       "      <td>1.000000</td>\n",
       "      <td>0.907656</td>\n",
       "      <td>0.503819</td>\n",
       "    </tr>\n",
       "    <tr>\n",
       "      <th>Shell weight</th>\n",
       "      <td>-0.034854</td>\n",
       "      <td>0.897706</td>\n",
       "      <td>0.905330</td>\n",
       "      <td>0.819455</td>\n",
       "      <td>0.955355</td>\n",
       "      <td>0.882617</td>\n",
       "      <td>0.907656</td>\n",
       "      <td>1.000000</td>\n",
       "      <td>0.627574</td>\n",
       "    </tr>\n",
       "    <tr>\n",
       "      <th>Rings</th>\n",
       "      <td>-0.034627</td>\n",
       "      <td>0.556720</td>\n",
       "      <td>0.574660</td>\n",
       "      <td>0.557501</td>\n",
       "      <td>0.540390</td>\n",
       "      <td>0.420884</td>\n",
       "      <td>0.503819</td>\n",
       "      <td>0.627574</td>\n",
       "      <td>1.000000</td>\n",
       "    </tr>\n",
       "  </tbody>\n",
       "</table>\n",
       "</div>"
      ],
      "text/plain": [
       "                     Sex    Length  Diameter    Height  Whole weight  \\\n",
       "Sex             1.000000 -0.036066 -0.038874 -0.042293     -0.021391   \n",
       "Length         -0.036066  1.000000  0.986812  0.827747      0.925261   \n",
       "Diameter       -0.038874  0.986812  1.000000  0.833931      0.925452   \n",
       "Height         -0.042293  0.827747  0.833931  1.000000      0.819623   \n",
       "Whole weight   -0.021391  0.925261  0.925452  0.819623      1.000000   \n",
       "Shucked weight -0.001373  0.897914  0.893162  0.775405      0.969405   \n",
       "Viscera weight -0.032067  0.903018  0.899724  0.798653      0.966375   \n",
       "Shell weight   -0.034854  0.897706  0.905330  0.819455      0.955355   \n",
       "Rings          -0.034627  0.556720  0.574660  0.557501      0.540390   \n",
       "\n",
       "                Shucked weight  Viscera weight  Shell weight     Rings  \n",
       "Sex                  -0.001373       -0.032067     -0.034854 -0.034627  \n",
       "Length                0.897914        0.903018      0.897706  0.556720  \n",
       "Diameter              0.893162        0.899724      0.905330  0.574660  \n",
       "Height                0.775405        0.798653      0.819455  0.557501  \n",
       "Whole weight          0.969405        0.966375      0.955355  0.540390  \n",
       "Shucked weight        1.000000        0.931961      0.882617  0.420884  \n",
       "Viscera weight        0.931961        1.000000      0.907656  0.503819  \n",
       "Shell weight          0.882617        0.907656      1.000000  0.627574  \n",
       "Rings                 0.420884        0.503819      0.627574  1.000000  "
      ]
     },
     "execution_count": 27,
     "metadata": {},
     "output_type": "execute_result"
    }
   ],
   "source": [
    "df.corr()"
   ]
  },
  {
   "cell_type": "code",
   "execution_count": 28,
   "id": "69902bac",
   "metadata": {},
   "outputs": [
    {
     "data": {
      "image/png": "[encoded data removed]",
      "text/plain": [
       "<Figure size 1440x1080 with 2 Axes>"
      ]
     },
     "metadata": {
      "needs_background": "light"
     },
     "output_type": "display_data"
    }
   ],
   "source": [
    "plt.figure(figsize=(20,15))\n",
    "sns.heatmap(round(df.corr()[1:].transpose(),5),linewidth=2,annot=True,fmt=\"f\")\n",
    "plt.xticks(fontsize=15)\n",
    "plt.yticks(fontsize=15)\n",
    "plt.show()"
   ]
  },
  {
   "cell_type": "markdown",
   "id": "49f493df",
   "metadata": {},
   "source": [
    "POSSIBILITY OF MULTI-COLINEARTIY BECAUSE MOST FEATURES ARE POSITIVELY CORRELATED."
   ]
  },
  {
   "cell_type": "code",
   "execution_count": 29,
   "id": "000e1fdf",
   "metadata": {},
   "outputs": [],
   "source": [
    "x=df.iloc[:,:-1]\n",
    "y=df.iloc[:,-1]\n",
    "from statsmodels.stats.outliers_influence import variance_inflation_factor \n",
    "def c_vif(x):\n",
    "    vif=pd.DataFrame()\n",
    "    vif[\"variables\"]=x.columns\n",
    "    vif[\"VIF\"]=[variance_inflation_factor(x.values,i)for i in range(x.shape[1])]\n",
    "    return(vif)"
   ]
  },
  {
   "cell_type": "code",
   "execution_count": 30,
   "id": "33daf5ab",
   "metadata": {},
   "outputs": [
    {
     "data": {
      "text/html": [
       "<div>\n",
       "<style scoped>\n",
       "    .dataframe tbody tr th:only-of-type {\n",
       "        vertical-align: middle;\n",
       "    }\n",
       "\n",
       "    .dataframe tbody tr th {\n",
       "        vertical-align: top;\n",
       "    }\n",
       "\n",
       "    .dataframe thead th {\n",
       "        text-align: right;\n",
       "    }\n",
       "</style>\n",
       "<table border=\"1\" class=\"dataframe\">\n",
       "  <thead>\n",
       "    <tr style=\"text-align: right;\">\n",
       "      <th></th>\n",
       "      <th>variables</th>\n",
       "      <th>VIF</th>\n",
       "    </tr>\n",
       "  </thead>\n",
       "  <tbody>\n",
       "    <tr>\n",
       "      <th>0</th>\n",
       "      <td>Sex</td>\n",
       "      <td>2.555420</td>\n",
       "    </tr>\n",
       "    <tr>\n",
       "      <th>1</th>\n",
       "      <td>Length</td>\n",
       "      <td>700.757659</td>\n",
       "    </tr>\n",
       "    <tr>\n",
       "      <th>2</th>\n",
       "      <td>Diameter</td>\n",
       "      <td>748.925958</td>\n",
       "    </tr>\n",
       "    <tr>\n",
       "      <th>3</th>\n",
       "      <td>Height</td>\n",
       "      <td>42.517127</td>\n",
       "    </tr>\n",
       "    <tr>\n",
       "      <th>4</th>\n",
       "      <td>Whole weight</td>\n",
       "      <td>421.582079</td>\n",
       "    </tr>\n",
       "    <tr>\n",
       "      <th>5</th>\n",
       "      <td>Shucked weight</td>\n",
       "      <td>101.584320</td>\n",
       "    </tr>\n",
       "    <tr>\n",
       "      <th>6</th>\n",
       "      <td>Viscera weight</td>\n",
       "      <td>63.602792</td>\n",
       "    </tr>\n",
       "    <tr>\n",
       "      <th>7</th>\n",
       "      <td>Shell weight</td>\n",
       "      <td>82.088012</td>\n",
       "    </tr>\n",
       "  </tbody>\n",
       "</table>\n",
       "</div>"
      ],
      "text/plain": [
       "        variables         VIF\n",
       "0             Sex    2.555420\n",
       "1          Length  700.757659\n",
       "2        Diameter  748.925958\n",
       "3          Height   42.517127\n",
       "4    Whole weight  421.582079\n",
       "5  Shucked weight  101.584320\n",
       "6  Viscera weight   63.602792\n",
       "7    Shell weight   82.088012"
      ]
     },
     "execution_count": 30,
     "metadata": {},
     "output_type": "execute_result"
    }
   ],
   "source": [
    "c_vif(x)"
   ]
  },
  {
   "cell_type": "markdown",
   "id": "ff15b853",
   "metadata": {},
   "source": [
    "DIAMETER, LENGHTH , WHOLE WEIGHT AND SHUCKED WEIGHT HAS HIGH VIF VALUE"
   ]
  },
  {
   "cell_type": "markdown",
   "id": "9bd49974",
   "metadata": {},
   "source": [
    "# Description and Information"
   ]
  },
  {
   "cell_type": "code",
   "execution_count": 31,
   "id": "110a4649",
   "metadata": {},
   "outputs": [
    {
     "data": {
      "text/html": [
       "<div>\n",
       "<style scoped>\n",
       "    .dataframe tbody tr th:only-of-type {\n",
       "        vertical-align: middle;\n",
       "    }\n",
       "\n",
       "    .dataframe tbody tr th {\n",
       "        vertical-align: top;\n",
       "    }\n",
       "\n",
       "    .dataframe thead th {\n",
       "        text-align: right;\n",
       "    }\n",
       "</style>\n",
       "<table border=\"1\" class=\"dataframe\">\n",
       "  <thead>\n",
       "    <tr style=\"text-align: right;\">\n",
       "      <th></th>\n",
       "      <th>Sex</th>\n",
       "      <th>Length</th>\n",
       "      <th>Diameter</th>\n",
       "      <th>Height</th>\n",
       "      <th>Whole weight</th>\n",
       "      <th>Shucked weight</th>\n",
       "      <th>Viscera weight</th>\n",
       "      <th>Shell weight</th>\n",
       "      <th>Rings</th>\n",
       "    </tr>\n",
       "  </thead>\n",
       "  <tbody>\n",
       "    <tr>\n",
       "      <th>count</th>\n",
       "      <td>4177.000000</td>\n",
       "      <td>4177.000000</td>\n",
       "      <td>4177.000000</td>\n",
       "      <td>4177.000000</td>\n",
       "      <td>4177.000000</td>\n",
       "      <td>4177.000000</td>\n",
       "      <td>4177.000000</td>\n",
       "      <td>4177.000000</td>\n",
       "      <td>4177.000000</td>\n",
       "    </tr>\n",
       "    <tr>\n",
       "      <th>mean</th>\n",
       "      <td>1.052909</td>\n",
       "      <td>0.523992</td>\n",
       "      <td>0.407881</td>\n",
       "      <td>0.139583</td>\n",
       "      <td>0.828742</td>\n",
       "      <td>0.359367</td>\n",
       "      <td>0.180594</td>\n",
       "      <td>0.238831</td>\n",
       "      <td>9.933684</td>\n",
       "    </tr>\n",
       "    <tr>\n",
       "      <th>std</th>\n",
       "      <td>0.822240</td>\n",
       "      <td>0.120093</td>\n",
       "      <td>0.099240</td>\n",
       "      <td>0.041715</td>\n",
       "      <td>0.490389</td>\n",
       "      <td>0.221963</td>\n",
       "      <td>0.109614</td>\n",
       "      <td>0.139203</td>\n",
       "      <td>3.224169</td>\n",
       "    </tr>\n",
       "    <tr>\n",
       "      <th>min</th>\n",
       "      <td>0.000000</td>\n",
       "      <td>0.075000</td>\n",
       "      <td>0.055000</td>\n",
       "      <td>0.010000</td>\n",
       "      <td>0.002000</td>\n",
       "      <td>0.001000</td>\n",
       "      <td>0.000500</td>\n",
       "      <td>0.001500</td>\n",
       "      <td>1.000000</td>\n",
       "    </tr>\n",
       "    <tr>\n",
       "      <th>25%</th>\n",
       "      <td>0.000000</td>\n",
       "      <td>0.450000</td>\n",
       "      <td>0.350000</td>\n",
       "      <td>0.115000</td>\n",
       "      <td>0.441500</td>\n",
       "      <td>0.186000</td>\n",
       "      <td>0.093500</td>\n",
       "      <td>0.130000</td>\n",
       "      <td>8.000000</td>\n",
       "    </tr>\n",
       "    <tr>\n",
       "      <th>50%</th>\n",
       "      <td>1.000000</td>\n",
       "      <td>0.545000</td>\n",
       "      <td>0.425000</td>\n",
       "      <td>0.140000</td>\n",
       "      <td>0.799500</td>\n",
       "      <td>0.336000</td>\n",
       "      <td>0.171000</td>\n",
       "      <td>0.234000</td>\n",
       "      <td>9.000000</td>\n",
       "    </tr>\n",
       "    <tr>\n",
       "      <th>75%</th>\n",
       "      <td>2.000000</td>\n",
       "      <td>0.615000</td>\n",
       "      <td>0.480000</td>\n",
       "      <td>0.165000</td>\n",
       "      <td>1.153000</td>\n",
       "      <td>0.502000</td>\n",
       "      <td>0.253000</td>\n",
       "      <td>0.329000</td>\n",
       "      <td>11.000000</td>\n",
       "    </tr>\n",
       "    <tr>\n",
       "      <th>max</th>\n",
       "      <td>2.000000</td>\n",
       "      <td>0.815000</td>\n",
       "      <td>0.650000</td>\n",
       "      <td>1.130000</td>\n",
       "      <td>2.825500</td>\n",
       "      <td>1.488000</td>\n",
       "      <td>0.760000</td>\n",
       "      <td>1.005000</td>\n",
       "      <td>29.000000</td>\n",
       "    </tr>\n",
       "  </tbody>\n",
       "</table>\n",
       "</div>"
      ],
      "text/plain": [
       "               Sex       Length     Diameter       Height  Whole weight  \\\n",
       "count  4177.000000  4177.000000  4177.000000  4177.000000   4177.000000   \n",
       "mean      1.052909     0.523992     0.407881     0.139583      0.828742   \n",
       "std       0.822240     0.120093     0.099240     0.041715      0.490389   \n",
       "min       0.000000     0.075000     0.055000     0.010000      0.002000   \n",
       "25%       0.000000     0.450000     0.350000     0.115000      0.441500   \n",
       "50%       1.000000     0.545000     0.425000     0.140000      0.799500   \n",
       "75%       2.000000     0.615000     0.480000     0.165000      1.153000   \n",
       "max       2.000000     0.815000     0.650000     1.130000      2.825500   \n",
       "\n",
       "       Shucked weight  Viscera weight  Shell weight        Rings  \n",
       "count     4177.000000     4177.000000   4177.000000  4177.000000  \n",
       "mean         0.359367        0.180594      0.238831     9.933684  \n",
       "std          0.221963        0.109614      0.139203     3.224169  \n",
       "min          0.001000        0.000500      0.001500     1.000000  \n",
       "25%          0.186000        0.093500      0.130000     8.000000  \n",
       "50%          0.336000        0.171000      0.234000     9.000000  \n",
       "75%          0.502000        0.253000      0.329000    11.000000  \n",
       "max          1.488000        0.760000      1.005000    29.000000  "
      ]
     },
     "execution_count": 31,
     "metadata": {},
     "output_type": "execute_result"
    }
   ],
   "source": [
    "df.describe()"
   ]
  },
  {
   "cell_type": "markdown",
   "id": "c263c0bd",
   "metadata": {},
   "source": [
    "mean and standard deviation for all features except sex (categorical data) is close to zero."
   ]
  },
  {
   "cell_type": "code",
   "execution_count": 32,
   "id": "898ab9e1",
   "metadata": {},
   "outputs": [
    {
     "name": "stdout",
     "output_type": "stream",
     "text": [
      "<class 'pandas.core.frame.DataFrame'>\n",
      "RangeIndex: 4177 entries, 0 to 4176\n",
      "Data columns (total 9 columns):\n",
      " #   Column          Non-Null Count  Dtype  \n",
      "---  ------          --------------  -----  \n",
      " 0   Sex             4177 non-null   int32  \n",
      " 1   Length          4177 non-null   float64\n",
      " 2   Diameter        4177 non-null   float64\n",
      " 3   Height          4177 non-null   float64\n",
      " 4   Whole weight    4177 non-null   float64\n",
      " 5   Shucked weight  4177 non-null   float64\n",
      " 6   Viscera weight  4177 non-null   float64\n",
      " 7   Shell weight    4177 non-null   float64\n",
      " 8   Rings           4177 non-null   int64  \n",
      "dtypes: float64(7), int32(1), int64(1)\n",
      "memory usage: 277.5 KB\n"
     ]
    }
   ],
   "source": [
    "df.info()"
   ]
  },
  {
   "cell_type": "markdown",
   "id": "8294e624",
   "metadata": {},
   "source": [
    "# outliers and skewness"
   ]
  },
  {
   "cell_type": "code",
   "execution_count": 33,
   "id": "dca529a6",
   "metadata": {},
   "outputs": [
    {
     "data": {
      "image/png": "[encoded data removed]",
      "text/plain": [
       "<Figure size 1080x3240 with 7 Axes>"
      ]
     },
     "metadata": {
      "needs_background": "light"
     },
     "output_type": "display_data"
    }
   ],
   "source": [
    "li=df.iloc[:,1:-1]\n",
    "collist=li.columns.values\n",
    "ncol=15 #no.of columns and rows to display the graphs i.e max col and max row\n",
    "nrows=10\n",
    "plt.figure(figsize=(ncol,3*ncol))\n",
    "for i in range (0, len(collist)):\n",
    "    plt.subplot(nrows,ncol,i+1)\n",
    "    sns.boxplot(y=li[collist[i]],color=\"orange\",orient=\"v\")\n",
    "    plt.tight_layout()"
   ]
  },
  {
   "cell_type": "markdown",
   "id": "b076bdd0",
   "metadata": {},
   "source": [
    "outliers are present."
   ]
  },
  {
   "cell_type": "code",
   "execution_count": 34,
   "id": "2b8d169c",
   "metadata": {},
   "outputs": [
    {
     "data": {
      "text/plain": [
       "Length           -0.639873\n",
       "Diameter         -0.609198\n",
       "Height            3.167121\n",
       "Whole weight      0.530959\n",
       "Shucked weight    0.719098\n",
       "Viscera weight    0.591852\n",
       "Shell weight      0.620927\n",
       "dtype: float64"
      ]
     },
     "execution_count": 34,
     "metadata": {},
     "output_type": "execute_result"
    }
   ],
   "source": [
    "li.skew()"
   ]
  },
  {
   "cell_type": "markdown",
   "id": "f52b945f",
   "metadata": {},
   "source": [
    "Skweness is present."
   ]
  },
  {
   "cell_type": "code",
   "execution_count": 35,
   "id": "9b78b2b2",
   "metadata": {},
   "outputs": [
    {
     "data": {
      "text/plain": [
       "<AxesSubplot:xlabel='Length', ylabel='Density'>"
      ]
     },
     "execution_count": 35,
     "metadata": {},
     "output_type": "execute_result"
    },
    {
     "data": {
      "image/png": "[encoded data removed]",
      "text/plain": [
       "<Figure size 432x288 with 1 Axes>"
      ]
     },
     "metadata": {
      "needs_background": "light"
     },
     "output_type": "display_data"
    }
   ],
   "source": [
    "sns.kdeplot(x=\"Length\",data=df)"
   ]
  },
  {
   "cell_type": "code",
   "execution_count": 36,
   "id": "0db229e1",
   "metadata": {},
   "outputs": [
    {
     "data": {
      "text/plain": [
       "<AxesSubplot:xlabel='Height', ylabel='Density'>"
      ]
     },
     "execution_count": 36,
     "metadata": {},
     "output_type": "execute_result"
    },
    {
     "data": {
      "image/png": "[encoded data removed]",
      "text/plain": [
       "<Figure size 432x288 with 1 Axes>"
      ]
     },
     "metadata": {
      "needs_background": "light"
     },
     "output_type": "display_data"
    }
   ],
   "source": [
    "sns.kdeplot(x=\"Height\",data=df)"
   ]
  },
  {
   "cell_type": "code",
   "execution_count": 37,
   "id": "7ba6b157",
   "metadata": {},
   "outputs": [
    {
     "data": {
      "text/plain": [
       "Sex              -0.098155\n",
       "Length           -0.639873\n",
       "Diameter         -0.609198\n",
       "Height           -0.176161\n",
       "Whole weight      0.530959\n",
       "Shucked weight    0.719098\n",
       "Viscera weight    0.591852\n",
       "Shell weight      0.620927\n",
       "Rings             1.114102\n",
       "dtype: float64"
      ]
     },
     "execution_count": 37,
     "metadata": {},
     "output_type": "execute_result"
    }
   ],
   "source": [
    "import numpy as np \n",
    "\n",
    "df[\"Height\"]=np.sqrt(df[\"Height\"])\n",
    "df.skew()"
   ]
  },
  {
   "cell_type": "code",
   "execution_count": 38,
   "id": "10434869",
   "metadata": {},
   "outputs": [
    {
     "data": {
      "text/plain": [
       "Sex              -0.548920\n",
       "Length           -1.020771\n",
       "Diameter         -0.996014\n",
       "Height           -0.816961\n",
       "Whole weight     -0.236646\n",
       "Shucked weight   -0.141443\n",
       "Viscera weight   -0.183321\n",
       "Shell weight     -0.222772\n",
       "Rings             1.114102\n",
       "dtype: float64"
      ]
     },
     "execution_count": 38,
     "metadata": {},
     "output_type": "execute_result"
    }
   ],
   "source": [
    "df.iloc[:,:-1]=np.sqrt(df.iloc[:,:-1])\n",
    "df.skew()"
   ]
  },
  {
   "cell_type": "markdown",
   "id": "055b6938",
   "metadata": {},
   "source": [
    "# REMOVING FEATURES WITH HIGH VIF SCORE"
   ]
  },
  {
   "cell_type": "code",
   "execution_count": 39,
   "id": "f4649228",
   "metadata": {},
   "outputs": [
    {
     "data": {
      "text/html": [
       "<div>\n",
       "<style scoped>\n",
       "    .dataframe tbody tr th:only-of-type {\n",
       "        vertical-align: middle;\n",
       "    }\n",
       "\n",
       "    .dataframe tbody tr th {\n",
       "        vertical-align: top;\n",
       "    }\n",
       "\n",
       "    .dataframe thead th {\n",
       "        text-align: right;\n",
       "    }\n",
       "</style>\n",
       "<table border=\"1\" class=\"dataframe\">\n",
       "  <thead>\n",
       "    <tr style=\"text-align: right;\">\n",
       "      <th></th>\n",
       "      <th>Sex</th>\n",
       "      <th>Length</th>\n",
       "      <th>Height</th>\n",
       "      <th>Whole weight</th>\n",
       "      <th>Shucked weight</th>\n",
       "      <th>Viscera weight</th>\n",
       "      <th>Shell weight</th>\n",
       "      <th>Rings</th>\n",
       "    </tr>\n",
       "  </thead>\n",
       "  <tbody>\n",
       "    <tr>\n",
       "      <th>0</th>\n",
       "      <td>1.414214</td>\n",
       "      <td>0.674537</td>\n",
       "      <td>0.555176</td>\n",
       "      <td>0.716938</td>\n",
       "      <td>0.473814</td>\n",
       "      <td>0.317805</td>\n",
       "      <td>0.387298</td>\n",
       "      <td>15</td>\n",
       "    </tr>\n",
       "    <tr>\n",
       "      <th>1</th>\n",
       "      <td>1.414214</td>\n",
       "      <td>0.591608</td>\n",
       "      <td>0.547723</td>\n",
       "      <td>0.474868</td>\n",
       "      <td>0.315436</td>\n",
       "      <td>0.220227</td>\n",
       "      <td>0.264575</td>\n",
       "      <td>7</td>\n",
       "    </tr>\n",
       "    <tr>\n",
       "      <th>2</th>\n",
       "      <td>0.000000</td>\n",
       "      <td>0.728011</td>\n",
       "      <td>0.606155</td>\n",
       "      <td>0.822800</td>\n",
       "      <td>0.506458</td>\n",
       "      <td>0.376165</td>\n",
       "      <td>0.458258</td>\n",
       "      <td>9</td>\n",
       "    </tr>\n",
       "    <tr>\n",
       "      <th>3</th>\n",
       "      <td>1.414214</td>\n",
       "      <td>0.663325</td>\n",
       "      <td>0.594604</td>\n",
       "      <td>0.718331</td>\n",
       "      <td>0.464220</td>\n",
       "      <td>0.337639</td>\n",
       "      <td>0.393700</td>\n",
       "      <td>10</td>\n",
       "    </tr>\n",
       "    <tr>\n",
       "      <th>4</th>\n",
       "      <td>1.000000</td>\n",
       "      <td>0.574456</td>\n",
       "      <td>0.531830</td>\n",
       "      <td>0.452769</td>\n",
       "      <td>0.299166</td>\n",
       "      <td>0.198746</td>\n",
       "      <td>0.234521</td>\n",
       "      <td>7</td>\n",
       "    </tr>\n",
       "    <tr>\n",
       "      <th>...</th>\n",
       "      <td>...</td>\n",
       "      <td>...</td>\n",
       "      <td>...</td>\n",
       "      <td>...</td>\n",
       "      <td>...</td>\n",
       "      <td>...</td>\n",
       "      <td>...</td>\n",
       "      <td>...</td>\n",
       "    </tr>\n",
       "    <tr>\n",
       "      <th>4172</th>\n",
       "      <td>0.000000</td>\n",
       "      <td>0.751665</td>\n",
       "      <td>0.637340</td>\n",
       "      <td>0.941807</td>\n",
       "      <td>0.608276</td>\n",
       "      <td>0.488876</td>\n",
       "      <td>0.498999</td>\n",
       "      <td>11</td>\n",
       "    </tr>\n",
       "    <tr>\n",
       "      <th>4173</th>\n",
       "      <td>1.414214</td>\n",
       "      <td>0.768115</td>\n",
       "      <td>0.606155</td>\n",
       "      <td>0.982853</td>\n",
       "      <td>0.662571</td>\n",
       "      <td>0.463141</td>\n",
       "      <td>0.510392</td>\n",
       "      <td>10</td>\n",
       "    </tr>\n",
       "    <tr>\n",
       "      <th>4174</th>\n",
       "      <td>1.414214</td>\n",
       "      <td>0.774597</td>\n",
       "      <td>0.672881</td>\n",
       "      <td>1.084435</td>\n",
       "      <td>0.724914</td>\n",
       "      <td>0.536190</td>\n",
       "      <td>0.554977</td>\n",
       "      <td>9</td>\n",
       "    </tr>\n",
       "    <tr>\n",
       "      <th>4175</th>\n",
       "      <td>0.000000</td>\n",
       "      <td>0.790569</td>\n",
       "      <td>0.622333</td>\n",
       "      <td>1.046184</td>\n",
       "      <td>0.728697</td>\n",
       "      <td>0.510882</td>\n",
       "      <td>0.544059</td>\n",
       "      <td>10</td>\n",
       "    </tr>\n",
       "    <tr>\n",
       "      <th>4176</th>\n",
       "      <td>1.414214</td>\n",
       "      <td>0.842615</td>\n",
       "      <td>0.664521</td>\n",
       "      <td>1.395887</td>\n",
       "      <td>0.972368</td>\n",
       "      <td>0.613596</td>\n",
       "      <td>0.703562</td>\n",
       "      <td>12</td>\n",
       "    </tr>\n",
       "  </tbody>\n",
       "</table>\n",
       "<p>4177 rows × 8 columns</p>\n",
       "</div>"
      ],
      "text/plain": [
       "           Sex    Length    Height  Whole weight  Shucked weight  \\\n",
       "0     1.414214  0.674537  0.555176      0.716938        0.473814   \n",
       "1     1.414214  0.591608  0.547723      0.474868        0.315436   \n",
       "2     0.000000  0.728011  0.606155      0.822800        0.506458   \n",
       "3     1.414214  0.663325  0.594604      0.718331        0.464220   \n",
       "4     1.000000  0.574456  0.531830      0.452769        0.299166   \n",
       "...        ...       ...       ...           ...             ...   \n",
       "4172  0.000000  0.751665  0.637340      0.941807        0.608276   \n",
       "4173  1.414214  0.768115  0.606155      0.982853        0.662571   \n",
       "4174  1.414214  0.774597  0.672881      1.084435        0.724914   \n",
       "4175  0.000000  0.790569  0.622333      1.046184        0.728697   \n",
       "4176  1.414214  0.842615  0.664521      1.395887        0.972368   \n",
       "\n",
       "      Viscera weight  Shell weight  Rings  \n",
       "0           0.317805      0.387298     15  \n",
       "1           0.220227      0.264575      7  \n",
       "2           0.376165      0.458258      9  \n",
       "3           0.337639      0.393700     10  \n",
       "4           0.198746      0.234521      7  \n",
       "...              ...           ...    ...  \n",
       "4172        0.488876      0.498999     11  \n",
       "4173        0.463141      0.510392     10  \n",
       "4174        0.536190      0.554977      9  \n",
       "4175        0.510882      0.544059     10  \n",
       "4176        0.613596      0.703562     12  \n",
       "\n",
       "[4177 rows x 8 columns]"
      ]
     },
     "execution_count": 39,
     "metadata": {},
     "output_type": "execute_result"
    }
   ],
   "source": [
    "df=df.drop([\"Diameter\"],axis=1) \n",
    "df"
   ]
  },
  {
   "cell_type": "code",
   "execution_count": 40,
   "id": "28a920e6",
   "metadata": {},
   "outputs": [
    {
     "data": {
      "text/html": [
       "<div>\n",
       "<style scoped>\n",
       "    .dataframe tbody tr th:only-of-type {\n",
       "        vertical-align: middle;\n",
       "    }\n",
       "\n",
       "    .dataframe tbody tr th {\n",
       "        vertical-align: top;\n",
       "    }\n",
       "\n",
       "    .dataframe thead th {\n",
       "        text-align: right;\n",
       "    }\n",
       "</style>\n",
       "<table border=\"1\" class=\"dataframe\">\n",
       "  <thead>\n",
       "    <tr style=\"text-align: right;\">\n",
       "      <th></th>\n",
       "      <th>Sex</th>\n",
       "      <th>Length</th>\n",
       "      <th>Height</th>\n",
       "      <th>Whole weight</th>\n",
       "      <th>Viscera weight</th>\n",
       "      <th>Shell weight</th>\n",
       "      <th>Rings</th>\n",
       "    </tr>\n",
       "  </thead>\n",
       "  <tbody>\n",
       "    <tr>\n",
       "      <th>0</th>\n",
       "      <td>1.414214</td>\n",
       "      <td>0.674537</td>\n",
       "      <td>0.555176</td>\n",
       "      <td>0.716938</td>\n",
       "      <td>0.317805</td>\n",
       "      <td>0.387298</td>\n",
       "      <td>15</td>\n",
       "    </tr>\n",
       "    <tr>\n",
       "      <th>1</th>\n",
       "      <td>1.414214</td>\n",
       "      <td>0.591608</td>\n",
       "      <td>0.547723</td>\n",
       "      <td>0.474868</td>\n",
       "      <td>0.220227</td>\n",
       "      <td>0.264575</td>\n",
       "      <td>7</td>\n",
       "    </tr>\n",
       "    <tr>\n",
       "      <th>2</th>\n",
       "      <td>0.000000</td>\n",
       "      <td>0.728011</td>\n",
       "      <td>0.606155</td>\n",
       "      <td>0.822800</td>\n",
       "      <td>0.376165</td>\n",
       "      <td>0.458258</td>\n",
       "      <td>9</td>\n",
       "    </tr>\n",
       "    <tr>\n",
       "      <th>3</th>\n",
       "      <td>1.414214</td>\n",
       "      <td>0.663325</td>\n",
       "      <td>0.594604</td>\n",
       "      <td>0.718331</td>\n",
       "      <td>0.337639</td>\n",
       "      <td>0.393700</td>\n",
       "      <td>10</td>\n",
       "    </tr>\n",
       "    <tr>\n",
       "      <th>4</th>\n",
       "      <td>1.000000</td>\n",
       "      <td>0.574456</td>\n",
       "      <td>0.531830</td>\n",
       "      <td>0.452769</td>\n",
       "      <td>0.198746</td>\n",
       "      <td>0.234521</td>\n",
       "      <td>7</td>\n",
       "    </tr>\n",
       "    <tr>\n",
       "      <th>...</th>\n",
       "      <td>...</td>\n",
       "      <td>...</td>\n",
       "      <td>...</td>\n",
       "      <td>...</td>\n",
       "      <td>...</td>\n",
       "      <td>...</td>\n",
       "      <td>...</td>\n",
       "    </tr>\n",
       "    <tr>\n",
       "      <th>4172</th>\n",
       "      <td>0.000000</td>\n",
       "      <td>0.751665</td>\n",
       "      <td>0.637340</td>\n",
       "      <td>0.941807</td>\n",
       "      <td>0.488876</td>\n",
       "      <td>0.498999</td>\n",
       "      <td>11</td>\n",
       "    </tr>\n",
       "    <tr>\n",
       "      <th>4173</th>\n",
       "      <td>1.414214</td>\n",
       "      <td>0.768115</td>\n",
       "      <td>0.606155</td>\n",
       "      <td>0.982853</td>\n",
       "      <td>0.463141</td>\n",
       "      <td>0.510392</td>\n",
       "      <td>10</td>\n",
       "    </tr>\n",
       "    <tr>\n",
       "      <th>4174</th>\n",
       "      <td>1.414214</td>\n",
       "      <td>0.774597</td>\n",
       "      <td>0.672881</td>\n",
       "      <td>1.084435</td>\n",
       "      <td>0.536190</td>\n",
       "      <td>0.554977</td>\n",
       "      <td>9</td>\n",
       "    </tr>\n",
       "    <tr>\n",
       "      <th>4175</th>\n",
       "      <td>0.000000</td>\n",
       "      <td>0.790569</td>\n",
       "      <td>0.622333</td>\n",
       "      <td>1.046184</td>\n",
       "      <td>0.510882</td>\n",
       "      <td>0.544059</td>\n",
       "      <td>10</td>\n",
       "    </tr>\n",
       "    <tr>\n",
       "      <th>4176</th>\n",
       "      <td>1.414214</td>\n",
       "      <td>0.842615</td>\n",
       "      <td>0.664521</td>\n",
       "      <td>1.395887</td>\n",
       "      <td>0.613596</td>\n",
       "      <td>0.703562</td>\n",
       "      <td>12</td>\n",
       "    </tr>\n",
       "  </tbody>\n",
       "</table>\n",
       "<p>4177 rows × 7 columns</p>\n",
       "</div>"
      ],
      "text/plain": [
       "           Sex    Length    Height  Whole weight  Viscera weight  \\\n",
       "0     1.414214  0.674537  0.555176      0.716938        0.317805   \n",
       "1     1.414214  0.591608  0.547723      0.474868        0.220227   \n",
       "2     0.000000  0.728011  0.606155      0.822800        0.376165   \n",
       "3     1.414214  0.663325  0.594604      0.718331        0.337639   \n",
       "4     1.000000  0.574456  0.531830      0.452769        0.198746   \n",
       "...        ...       ...       ...           ...             ...   \n",
       "4172  0.000000  0.751665  0.637340      0.941807        0.488876   \n",
       "4173  1.414214  0.768115  0.606155      0.982853        0.463141   \n",
       "4174  1.414214  0.774597  0.672881      1.084435        0.536190   \n",
       "4175  0.000000  0.790569  0.622333      1.046184        0.510882   \n",
       "4176  1.414214  0.842615  0.664521      1.395887        0.613596   \n",
       "\n",
       "      Shell weight  Rings  \n",
       "0         0.387298     15  \n",
       "1         0.264575      7  \n",
       "2         0.458258      9  \n",
       "3         0.393700     10  \n",
       "4         0.234521      7  \n",
       "...            ...    ...  \n",
       "4172      0.498999     11  \n",
       "4173      0.510392     10  \n",
       "4174      0.554977      9  \n",
       "4175      0.544059     10  \n",
       "4176      0.703562     12  \n",
       "\n",
       "[4177 rows x 7 columns]"
      ]
     },
     "execution_count": 40,
     "metadata": {},
     "output_type": "execute_result"
    }
   ],
   "source": [
    "df=df.drop([\"Shucked weight\"],axis=1) \n",
    "df"
   ]
  },
  {
   "cell_type": "code",
   "execution_count": 41,
   "id": "49da252c",
   "metadata": {},
   "outputs": [
    {
     "data": {
      "text/html": [
       "<div>\n",
       "<style scoped>\n",
       "    .dataframe tbody tr th:only-of-type {\n",
       "        vertical-align: middle;\n",
       "    }\n",
       "\n",
       "    .dataframe tbody tr th {\n",
       "        vertical-align: top;\n",
       "    }\n",
       "\n",
       "    .dataframe thead th {\n",
       "        text-align: right;\n",
       "    }\n",
       "</style>\n",
       "<table border=\"1\" class=\"dataframe\">\n",
       "  <thead>\n",
       "    <tr style=\"text-align: right;\">\n",
       "      <th></th>\n",
       "      <th>variables</th>\n",
       "      <th>VIF</th>\n",
       "    </tr>\n",
       "  </thead>\n",
       "  <tbody>\n",
       "    <tr>\n",
       "      <th>0</th>\n",
       "      <td>Sex</td>\n",
       "      <td>3.086981</td>\n",
       "    </tr>\n",
       "    <tr>\n",
       "      <th>1</th>\n",
       "      <td>Length</td>\n",
       "      <td>766.545700</td>\n",
       "    </tr>\n",
       "    <tr>\n",
       "      <th>2</th>\n",
       "      <td>Height</td>\n",
       "      <td>518.025353</td>\n",
       "    </tr>\n",
       "    <tr>\n",
       "      <th>3</th>\n",
       "      <td>Whole weight</td>\n",
       "      <td>498.392271</td>\n",
       "    </tr>\n",
       "    <tr>\n",
       "      <th>4</th>\n",
       "      <td>Viscera weight</td>\n",
       "      <td>217.245385</td>\n",
       "    </tr>\n",
       "    <tr>\n",
       "      <th>5</th>\n",
       "      <td>Shell weight</td>\n",
       "      <td>196.591379</td>\n",
       "    </tr>\n",
       "  </tbody>\n",
       "</table>\n",
       "</div>"
      ],
      "text/plain": [
       "        variables         VIF\n",
       "0             Sex    3.086981\n",
       "1          Length  766.545700\n",
       "2          Height  518.025353\n",
       "3    Whole weight  498.392271\n",
       "4  Viscera weight  217.245385\n",
       "5    Shell weight  196.591379"
      ]
     },
     "execution_count": 41,
     "metadata": {},
     "output_type": "execute_result"
    }
   ],
   "source": [
    "x=df.iloc[:,:-1]\n",
    "c_vif(x)"
   ]
  },
  {
   "cell_type": "markdown",
   "id": "62be0354",
   "metadata": {},
   "source": [
    "Removing outliers"
   ]
  },
  {
   "cell_type": "code",
   "execution_count": 42,
   "id": "2b0a15f9",
   "metadata": {},
   "outputs": [
    {
     "data": {
      "text/plain": [
       "(4177, 7)"
      ]
     },
     "execution_count": 42,
     "metadata": {},
     "output_type": "execute_result"
    }
   ],
   "source": [
    "import scipy\n",
    "from scipy.stats import zscore \n",
    "z=np.abs(zscore(df))\n",
    "z.shape"
   ]
  },
  {
   "cell_type": "code",
   "execution_count": 43,
   "id": "380af549",
   "metadata": {},
   "outputs": [
    {
     "name": "stdout",
     "output_type": "stream",
     "text": [
      "(4177, 7)\n",
      "(4050, 7)\n"
     ]
    }
   ],
   "source": [
    "threshold=3\n",
    "df_new=df[(z<3).all(axis=1)]\n",
    "print(df.shape)\n",
    "print(df_new.shape)"
   ]
  },
  {
   "cell_type": "code",
   "execution_count": 44,
   "id": "61d40174",
   "metadata": {},
   "outputs": [
    {
     "data": {
      "text/plain": [
       "3.040459660043093"
      ]
     },
     "execution_count": 44,
     "metadata": {},
     "output_type": "execute_result"
    }
   ],
   "source": [
    "#data loss \n",
    "loss=(4177-4050)/4177*100\n",
    "loss"
   ]
  },
  {
   "cell_type": "markdown",
   "id": "abc75e34",
   "metadata": {},
   "source": [
    "ONLY 3 PERCENT DATA LOSS"
   ]
  },
  {
   "cell_type": "code",
   "execution_count": 45,
   "id": "2b72e2c9",
   "metadata": {},
   "outputs": [
    {
     "name": "stdout",
     "output_type": "stream",
     "text": [
      "Sex               1.414214\n",
      "Length            0.113399\n",
      "Height            0.055003\n",
      "Whole weight      0.409324\n",
      "Viscera weight    0.197213\n",
      "Shell weight      0.213030\n",
      "Rings             3.000000\n",
      "dtype: float64\n"
     ]
    }
   ],
   "source": [
    "Q1=df.quantile(0.25)\n",
    "Q3=df.quantile(0.75)\n",
    "IQR= Q3-Q1\n",
    "print(IQR)"
   ]
  },
  {
   "cell_type": "code",
   "execution_count": 46,
   "id": "a5056384",
   "metadata": {},
   "outputs": [
    {
     "name": "stdout",
     "output_type": "stream",
     "text": [
      "(3778, 7)\n"
     ]
    }
   ],
   "source": [
    "df_new1=df[~((df<(Q1 - 1.5*IQR))|(df> (Q3 + 1.5*IQR))).any(axis=1)]\n",
    "print(df_new1.shape)"
   ]
  },
  {
   "cell_type": "code",
   "execution_count": 47,
   "id": "75f727da",
   "metadata": {},
   "outputs": [],
   "source": [
    "x=df_new.iloc[:,:-1]\n",
    "y=df_new.iloc[:,-1]"
   ]
  },
  {
   "cell_type": "code",
   "execution_count": 48,
   "id": "0fcab6d0",
   "metadata": {},
   "outputs": [
    {
     "name": "stdout",
     "output_type": "stream",
     "text": [
      "(4050, 6)\n",
      "(4050,)\n"
     ]
    }
   ],
   "source": [
    "print(x.shape)\n",
    "print(y.shape)"
   ]
  },
  {
   "cell_type": "markdown",
   "id": "46abc859",
   "metadata": {},
   "source": [
    "Removing skewness"
   ]
  },
  {
   "cell_type": "code",
   "execution_count": 49,
   "id": "0190c24f",
   "metadata": {},
   "outputs": [
    {
     "data": {
      "text/plain": [
       "array([[ 1.03953654, -0.71515753, -1.22658266, -0.56665217, -0.668411  ,\n",
       "        -0.5722176 ],\n",
       "       [ 1.03953654, -1.48534305, -1.35879713, -1.39446144, -1.37465511,\n",
       "        -1.37383854],\n",
       "       [-1.37680213, -0.07025703, -0.15146219, -0.1909327 , -0.23544221,\n",
       "        -0.08777447],\n",
       "       ...,\n",
       "       [ 1.03953654,  0.60662214,  1.81558304,  0.77086556,  0.99058681,\n",
       "         0.59662524],\n",
       "       [-1.37680213,  0.86649953,  0.2605508 ,  0.62740312,  0.79299758,\n",
       "         0.51799056],\n",
       "       [ 1.03953654,  1.82394963,  1.5276018 ,  1.97314628,  1.60324503,\n",
       "         1.70077974]])"
      ]
     },
     "execution_count": 49,
     "metadata": {},
     "output_type": "execute_result"
    }
   ],
   "source": [
    "from sklearn.preprocessing import power_transform \n",
    "x=power_transform(x,method=\"yeo-johnson\")\n",
    "x"
   ]
  },
  {
   "cell_type": "markdown",
   "id": "22e93ebd",
   "metadata": {},
   "source": [
    "# Preprocessing"
   ]
  },
  {
   "cell_type": "code",
   "execution_count": 50,
   "id": "b0e935f7",
   "metadata": {},
   "outputs": [
    {
     "data": {
      "text/plain": [
       "array([[1.        , 0.29124975, 0.21263329, 0.33089905, 0.35197162,\n",
       "        0.31881168],\n",
       "       [1.        , 0.15077071, 0.18879514, 0.17181008, 0.23168103,\n",
       "        0.17699164],\n",
       "       [0.        , 0.40887725, 0.40647648, 0.40310508, 0.42571677,\n",
       "        0.4045177 ],\n",
       "       ...,\n",
       "       [1.        , 0.53233754, 0.76113285, 0.58794415, 0.63453942,\n",
       "        0.52559935],\n",
       "       [0.        , 0.57973823, 0.48076203, 0.56037343, 0.60088515,\n",
       "        0.51168758],\n",
       "       [1.        , 0.75437364, 0.70921011, 0.8189993 , 0.73889005,\n",
       "        0.72094259]])"
      ]
     },
     "execution_count": 50,
     "metadata": {},
     "output_type": "execute_result"
    }
   ],
   "source": [
    "from sklearn.preprocessing import MinMaxScaler\n",
    "ms=MinMaxScaler()\n",
    "x=ms.fit_transform(x)\n",
    "x"
   ]
  },
  {
   "cell_type": "markdown",
   "id": "b7121359",
   "metadata": {},
   "source": [
    "# Linear Regression"
   ]
  },
  {
   "cell_type": "code",
   "execution_count": 51,
   "id": "e2117ee4",
   "metadata": {},
   "outputs": [],
   "source": [
    "from sklearn.linear_model import LinearRegression\n",
    "from sklearn.metrics import r2_score\n",
    "from sklearn.model_selection import train_test_split"
   ]
  },
  {
   "cell_type": "code",
   "execution_count": 52,
   "id": "027c007f",
   "metadata": {},
   "outputs": [],
   "source": [
    "from sklearn.model_selection import train_test_split\n",
    "x_train,x_test,y_train,y_test=train_test_split(x,y,test_size=0.2, random_state=42)"
   ]
  },
  {
   "cell_type": "code",
   "execution_count": 53,
   "id": "23b9fd74",
   "metadata": {},
   "outputs": [
    {
     "name": "stdout",
     "output_type": "stream",
     "text": [
      "At random state= 0 training accuracy = 0.45892016625716314\n",
      "At random state= 0 testing accuracy = 0.43735183291791624\n",
      "\n",
      "\n",
      "At random state= 1 training accuracy = 0.4679757369527262\n",
      "At random state= 1 testing accuracy = 0.39983117877120833\n",
      "\n",
      "\n",
      "At random state= 2 training accuracy = 0.45209772594273334\n",
      "At random state= 2 testing accuracy = 0.4662188874913289\n",
      "\n",
      "\n",
      "At random state= 3 training accuracy = 0.44941435063225155\n",
      "At random state= 3 testing accuracy = 0.4779973204313611\n",
      "\n",
      "\n",
      "At random state= 4 training accuracy = 0.4495154833917352\n",
      "At random state= 4 testing accuracy = 0.4761128747251342\n",
      "\n",
      "\n",
      "At random state= 5 training accuracy = 0.4627416802846088\n",
      "At random state= 5 testing accuracy = 0.41788568527093983\n",
      "\n",
      "\n",
      "At random state= 6 training accuracy = 0.448394151251608\n",
      "At random state= 6 testing accuracy = 0.4781839856945235\n",
      "\n",
      "\n",
      "At random state= 7 training accuracy = 0.46166738009067876\n",
      "At random state= 7 testing accuracy = 0.42542456861981803\n",
      "\n",
      "\n",
      "At random state= 8 training accuracy = 0.45374987895397667\n",
      "At random state= 8 testing accuracy = 0.4565753518685812\n",
      "\n",
      "\n",
      "At random state= 9 training accuracy = 0.45611818153337447\n",
      "At random state= 9 testing accuracy = 0.4471276013298776\n",
      "\n",
      "\n",
      "At random state= 10 training accuracy = 0.4398608070756158\n",
      "At random state= 10 testing accuracy = 0.5156228723733578\n",
      "\n",
      "\n",
      "At random state= 11 training accuracy = 0.4546032780747796\n",
      "At random state= 11 testing accuracy = 0.45431990750114604\n",
      "\n",
      "\n",
      "At random state= 12 training accuracy = 0.44016238704447463\n",
      "At random state= 12 testing accuracy = 0.5091363389953083\n",
      "\n",
      "\n",
      "At random state= 13 training accuracy = 0.4487034083549166\n",
      "At random state= 13 testing accuracy = 0.4778286043590386\n",
      "\n",
      "\n",
      "At random state= 14 training accuracy = 0.4488413138196624\n",
      "At random state= 14 testing accuracy = 0.47762794634414585\n",
      "\n",
      "\n",
      "At random state= 15 training accuracy = 0.45268876609566777\n",
      "At random state= 15 testing accuracy = 0.46310701889451944\n",
      "\n",
      "\n",
      "At random state= 16 training accuracy = 0.45475223227268025\n",
      "At random state= 16 testing accuracy = 0.45577174016178146\n",
      "\n",
      "\n",
      "At random state= 17 training accuracy = 0.4665714896302101\n",
      "At random state= 17 testing accuracy = 0.4012295859538033\n",
      "\n",
      "\n",
      "At random state= 18 training accuracy = 0.4540498430495977\n",
      "At random state= 18 testing accuracy = 0.4575177587109389\n",
      "\n",
      "\n",
      "At random state= 19 training accuracy = 0.4578789329820456\n",
      "At random state= 19 testing accuracy = 0.44159614855118423\n",
      "\n",
      "\n",
      "At random state= 20 training accuracy = 0.4573099319925683\n",
      "At random state= 20 testing accuracy = 0.44164526059390175\n",
      "\n",
      "\n",
      "At random state= 21 training accuracy = 0.46400679154367064\n",
      "At random state= 21 testing accuracy = 0.4171457805881793\n",
      "\n",
      "\n",
      "At random state= 22 training accuracy = 0.4596622464397683\n",
      "At random state= 22 testing accuracy = 0.4343995018168081\n",
      "\n",
      "\n",
      "At random state= 23 training accuracy = 0.45383374308237456\n",
      "At random state= 23 testing accuracy = 0.454956553137876\n",
      "\n",
      "\n",
      "At random state= 24 training accuracy = 0.4563913053927525\n",
      "At random state= 24 testing accuracy = 0.44747129504941485\n",
      "\n",
      "\n",
      "At random state= 25 training accuracy = 0.4502395108577434\n",
      "At random state= 25 testing accuracy = 0.47511720947691893\n",
      "\n",
      "\n",
      "At random state= 26 training accuracy = 0.45579528982081463\n",
      "At random state= 26 testing accuracy = 0.45167353006740485\n",
      "\n",
      "\n",
      "At random state= 27 training accuracy = 0.46930797569878924\n",
      "At random state= 27 testing accuracy = 0.3899729427916858\n",
      "\n",
      "\n",
      "At random state= 28 training accuracy = 0.447842879848136\n",
      "At random state= 28 testing accuracy = 0.47878288510012845\n",
      "\n",
      "\n",
      "At random state= 29 training accuracy = 0.4588868158093595\n",
      "At random state= 29 testing accuracy = 0.4390017843248676\n",
      "\n",
      "\n",
      "At random state= 30 training accuracy = 0.4628672524754551\n",
      "At random state= 30 testing accuracy = 0.417313481585183\n",
      "\n",
      "\n",
      "At random state= 31 training accuracy = 0.46343537537143953\n",
      "At random state= 31 testing accuracy = 0.41806513206821994\n",
      "\n",
      "\n",
      "At random state= 32 training accuracy = 0.4512236286830277\n",
      "At random state= 32 testing accuracy = 0.470243063608627\n",
      "\n",
      "\n",
      "At random state= 33 training accuracy = 0.45775598010867546\n",
      "At random state= 33 testing accuracy = 0.4436123304912585\n",
      "\n",
      "\n",
      "At random state= 34 training accuracy = 0.4567713090320965\n",
      "At random state= 34 testing accuracy = 0.44530509600654866\n",
      "\n",
      "\n",
      "At random state= 35 training accuracy = 0.44693292371868554\n",
      "At random state= 35 testing accuracy = 0.4837756083995933\n",
      "\n",
      "\n",
      "At random state= 36 training accuracy = 0.4494487249337603\n",
      "At random state= 36 testing accuracy = 0.4755647168433216\n",
      "\n",
      "\n",
      "At random state= 37 training accuracy = 0.44782019185807465\n",
      "At random state= 37 testing accuracy = 0.4824421421307177\n",
      "\n",
      "\n",
      "At random state= 38 training accuracy = 0.463334081752796\n",
      "At random state= 38 testing accuracy = 0.41962719998941167\n",
      "\n",
      "\n",
      "At random state= 39 training accuracy = 0.44821048636738525\n",
      "At random state= 39 testing accuracy = 0.4781212080787489\n",
      "\n",
      "\n",
      "At random state= 40 training accuracy = 0.44959581862598474\n",
      "At random state= 40 testing accuracy = 0.47274492715913563\n",
      "\n",
      "\n",
      "At random state= 41 training accuracy = 0.4541980456369321\n",
      "At random state= 41 testing accuracy = 0.456464904494404\n",
      "\n",
      "\n",
      "At random state= 42 training accuracy = 0.4513718422005937\n",
      "At random state= 42 testing accuracy = 0.46611793917798716\n",
      "\n",
      "\n",
      "At random state= 43 training accuracy = 0.45273729683505937\n",
      "At random state= 43 testing accuracy = 0.46070684315067456\n",
      "\n",
      "\n",
      "At random state= 44 training accuracy = 0.4518331881879233\n",
      "At random state= 44 testing accuracy = 0.46631545297760846\n",
      "\n",
      "\n",
      "At random state= 45 training accuracy = 0.4494741356502071\n",
      "At random state= 45 testing accuracy = 0.4752642177559303\n",
      "\n",
      "\n",
      "At random state= 46 training accuracy = 0.4534732547727215\n",
      "At random state= 46 testing accuracy = 0.4589661544970094\n",
      "\n",
      "\n",
      "At random state= 47 training accuracy = 0.451192188063701\n",
      "At random state= 47 testing accuracy = 0.46960538483915915\n",
      "\n",
      "\n",
      "At random state= 48 training accuracy = 0.45635489542694685\n",
      "At random state= 48 testing accuracy = 0.44744272959001063\n",
      "\n",
      "\n",
      "At random state= 49 training accuracy = 0.46539599772044293\n",
      "At random state= 49 testing accuracy = 0.40508653376156945\n",
      "\n",
      "\n",
      "At random state= 50 training accuracy = 0.4570073048784715\n",
      "At random state= 50 testing accuracy = 0.44301405967315477\n",
      "\n",
      "\n",
      "At random state= 51 training accuracy = 0.4548697267928973\n",
      "At random state= 51 testing accuracy = 0.4534251480135574\n",
      "\n",
      "\n",
      "At random state= 52 training accuracy = 0.46042875040986475\n",
      "At random state= 52 testing accuracy = 0.42987384745252977\n",
      "\n",
      "\n",
      "At random state= 53 training accuracy = 0.4535461560697901\n",
      "At random state= 53 testing accuracy = 0.460226139184425\n",
      "\n",
      "\n",
      "At random state= 54 training accuracy = 0.4518616423135863\n",
      "At random state= 54 testing accuracy = 0.4668150199455954\n",
      "\n",
      "\n",
      "At random state= 55 training accuracy = 0.4457925427706285\n",
      "At random state= 55 testing accuracy = 0.4899440804139473\n",
      "\n",
      "\n",
      "At random state= 56 training accuracy = 0.45079041247308227\n",
      "At random state= 56 testing accuracy = 0.4710321331041277\n",
      "\n",
      "\n",
      "At random state= 57 training accuracy = 0.4538834974672866\n",
      "At random state= 57 testing accuracy = 0.45825902168776955\n",
      "\n",
      "\n",
      "At random state= 58 training accuracy = 0.4526321611007773\n",
      "At random state= 58 testing accuracy = 0.46474205309852745\n",
      "\n",
      "\n",
      "At random state= 59 training accuracy = 0.45305435024487284\n",
      "At random state= 59 testing accuracy = 0.46166080156823086\n",
      "\n",
      "\n",
      "At random state= 60 training accuracy = 0.45860626626731804\n",
      "At random state= 60 testing accuracy = 0.43860039629415104\n",
      "\n",
      "\n",
      "At random state= 61 training accuracy = 0.44943040112593036\n",
      "At random state= 61 testing accuracy = 0.473571873445079\n",
      "\n",
      "\n",
      "At random state= 62 training accuracy = 0.45715575868544556\n",
      "At random state= 62 testing accuracy = 0.4448348045151177\n",
      "\n",
      "\n",
      "At random state= 63 training accuracy = 0.4601936282652562\n",
      "At random state= 63 testing accuracy = 0.4346417430647419\n",
      "\n",
      "\n",
      "At random state= 64 training accuracy = 0.4590305003505426\n",
      "At random state= 64 testing accuracy = 0.4371026587263228\n",
      "\n",
      "\n",
      "At random state= 65 training accuracy = 0.4505376874988499\n",
      "At random state= 65 testing accuracy = 0.46693698265811445\n",
      "\n",
      "\n",
      "At random state= 66 training accuracy = 0.45206953554591733\n",
      "At random state= 66 testing accuracy = 0.46089017873292704\n",
      "\n",
      "\n",
      "At random state= 67 training accuracy = 0.4508050724056948\n",
      "At random state= 67 testing accuracy = 0.4686851979272494\n",
      "\n",
      "\n",
      "At random state= 68 training accuracy = 0.44951007096394435\n",
      "At random state= 68 testing accuracy = 0.47607760938771704\n",
      "\n",
      "\n",
      "At random state= 69 training accuracy = 0.4430819279273285\n",
      "At random state= 69 testing accuracy = 0.5035840652004666\n",
      "\n",
      "\n",
      "At random state= 70 training accuracy = 0.45280018906962716\n",
      "At random state= 70 testing accuracy = 0.4598886711197926\n",
      "\n",
      "\n",
      "At random state= 71 training accuracy = 0.4639818264309712\n",
      "At random state= 71 testing accuracy = 0.4185512713603977\n",
      "\n",
      "\n",
      "At random state= 72 training accuracy = 0.4589571865870269\n",
      "At random state= 72 testing accuracy = 0.43634022088730995\n",
      "\n",
      "\n",
      "At random state= 73 training accuracy = 0.4591616351418243\n",
      "At random state= 73 testing accuracy = 0.436599426599941\n",
      "\n",
      "\n",
      "At random state= 74 training accuracy = 0.45198130598908315\n",
      "At random state= 74 testing accuracy = 0.46544621669458597\n",
      "\n",
      "\n",
      "At random state= 75 training accuracy = 0.4607691322343369\n",
      "At random state= 75 testing accuracy = 0.43212327311080834\n",
      "\n",
      "\n",
      "At random state= 76 training accuracy = 0.44572276424485546\n",
      "At random state= 76 testing accuracy = 0.4891566029018578\n",
      "\n",
      "\n",
      "At random state= 77 training accuracy = 0.45784596200385763\n",
      "At random state= 77 testing accuracy = 0.44013309552651514\n",
      "\n",
      "\n",
      "At random state= 78 training accuracy = 0.4550096156343394\n",
      "At random state= 78 testing accuracy = 0.454095438327645\n",
      "\n",
      "\n",
      "At random state= 79 training accuracy = 0.452798459228399\n",
      "At random state= 79 testing accuracy = 0.4599338009378171\n",
      "\n",
      "\n",
      "At random state= 80 training accuracy = 0.44944843968236525\n",
      "At random state= 80 testing accuracy = 0.47384389817786354\n",
      "\n",
      "\n",
      "At random state= 81 training accuracy = 0.44768409714015756\n",
      "At random state= 81 testing accuracy = 0.48250974560362414\n",
      "\n",
      "\n",
      "At random state= 82 training accuracy = 0.45686722922142786\n",
      "At random state= 82 testing accuracy = 0.44730966792102833\n",
      "\n",
      "\n",
      "At random state= 83 training accuracy = 0.4549701537928791\n",
      "At random state= 83 testing accuracy = 0.4512406331122645\n",
      "\n",
      "\n",
      "At random state= 84 training accuracy = 0.4551953431001179\n",
      "At random state= 84 testing accuracy = 0.4535603740633738\n",
      "\n",
      "\n",
      "At random state= 85 training accuracy = 0.4524568547184148\n",
      "At random state= 85 testing accuracy = 0.4647229469921317\n",
      "\n",
      "\n",
      "At random state= 86 training accuracy = 0.45391685740510224\n",
      "At random state= 86 testing accuracy = 0.45818217358893387\n",
      "\n",
      "\n",
      "At random state= 87 training accuracy = 0.4502568046879847\n",
      "At random state= 87 testing accuracy = 0.46829287081431725\n",
      "\n",
      "\n",
      "At random state= 88 training accuracy = 0.46129462069822935\n",
      "At random state= 88 testing accuracy = 0.42858789587608115\n",
      "\n",
      "\n",
      "At random state= 89 training accuracy = 0.4537458685582243\n",
      "At random state= 89 testing accuracy = 0.45913208232861025\n",
      "\n",
      "\n",
      "At random state= 90 training accuracy = 0.45281253132435006\n",
      "At random state= 90 testing accuracy = 0.4620044296226612\n",
      "\n",
      "\n",
      "At random state= 91 training accuracy = 0.44241624069345475\n",
      "At random state= 91 testing accuracy = 0.5062890588000228\n",
      "\n",
      "\n",
      "At random state= 92 training accuracy = 0.452608622667918\n",
      "At random state= 92 testing accuracy = 0.46066195833488455\n",
      "\n",
      "\n",
      "At random state= 93 training accuracy = 0.46234584602648277\n",
      "At random state= 93 testing accuracy = 0.4212860762757953\n",
      "\n",
      "\n",
      "At random state= 94 training accuracy = 0.4508055603201033\n",
      "At random state= 94 testing accuracy = 0.46914152699560796\n",
      "\n",
      "\n",
      "At random state= 95 training accuracy = 0.45559253753157203\n",
      "At random state= 95 testing accuracy = 0.4509238728688587\n",
      "\n",
      "\n",
      "At random state= 96 training accuracy = 0.45361113751268367\n",
      "At random state= 96 testing accuracy = 0.45784055722460293\n",
      "\n",
      "\n",
      "At random state= 97 training accuracy = 0.45290171956960756\n",
      "At random state= 97 testing accuracy = 0.4622151992590877\n",
      "\n",
      "\n",
      "At random state= 98 training accuracy = 0.4554797802792647\n",
      "At random state= 98 testing accuracy = 0.45210727137341167\n",
      "\n",
      "\n",
      "At random state= 99 training accuracy = 0.4513723344659175\n",
      "At random state= 99 testing accuracy = 0.4696466667696989\n",
      "\n",
      "\n"
     ]
    }
   ],
   "source": [
    "lr=LinearRegression()\n",
    "for i in range(0,100):\n",
    "    x_train,x_test,y_train,y_test=train_test_split(x,y,test_size=0.2, random_state=i)\n",
    "    lr.fit(x_train,y_train)\n",
    "    pred_train=lr.predict(x_train)\n",
    "    pred_test=lr.predict(x_test)\n",
    "    print(\"At random state=\",i,'training accuracy =',r2_score(y_train,pred_train))\n",
    "    print(\"At random state=\",i,'testing accuracy =',r2_score(y_test,pred_test))\n",
    "    print(\"\\n\")"
   ]
  },
  {
   "cell_type": "code",
   "execution_count": 54,
   "id": "a5683062",
   "metadata": {},
   "outputs": [
    {
     "name": "stdout",
     "output_type": "stream",
     "text": [
      "training accuracy 0.4398608070756158\n",
      "testing accuracy = 0.5156228723733578\n"
     ]
    }
   ],
   "source": [
    "x_train,x_test,y_train,y_test=train_test_split(x,y,test_size=0.2, random_state=10)\n",
    "lr.fit(x_train,y_train)\n",
    "pred_train=lr.predict(x_train)\n",
    "pred_test=lr.predict(x_test)\n",
    "print(\"training accuracy\",r2_score(y_train,pred_train))\n",
    "print('testing accuracy =',r2_score(y_test,pred_test))"
   ]
  },
  {
   "cell_type": "code",
   "execution_count": 55,
   "id": "0b0fd0bd",
   "metadata": {},
   "outputs": [
    {
     "name": "stdout",
     "output_type": "stream",
     "text": [
      "Score = 45.24464709844241 at cv = 2\n",
      "Score = 43.661025802117194 at cv = 3\n",
      "Score = 37.1180862699483 at cv = 4\n",
      "Score = 35.31585826902591 at cv = 5\n",
      "Score = 36.53337629368272 at cv = 6\n",
      "Score = 36.694314608153796 at cv = 7\n",
      "Score = 34.64622040258375 at cv = 8\n",
      "Score = 36.73899298048566 at cv = 9\n"
     ]
    }
   ],
   "source": [
    "from sklearn.model_selection import cross_val_score \n",
    "for i in range(2,10):\n",
    "    lr_cv=cross_val_score(lr,x,y,cv=i)\n",
    "    lrs=lr_cv.mean()\n",
    "    print(\"Score =\",lrs*100,\"at cv =\",i)"
   ]
  },
  {
   "cell_type": "markdown",
   "id": "0d2f01aa",
   "metadata": {},
   "source": [
    "# Regularization"
   ]
  },
  {
   "cell_type": "code",
   "execution_count": 56,
   "id": "9bf25d07",
   "metadata": {},
   "outputs": [],
   "source": [
    "from sklearn.model_selection import GridSearchCV\n",
    "from sklearn.model_selection import cross_val_score \n",
    "import warnings \n",
    "warnings.filterwarnings(\"ignore\")"
   ]
  },
  {
   "cell_type": "code",
   "execution_count": 57,
   "id": "b330bf7c",
   "metadata": {},
   "outputs": [],
   "source": [
    "from sklearn.linear_model import Lasso"
   ]
  },
  {
   "cell_type": "code",
   "execution_count": 58,
   "id": "de895d79",
   "metadata": {},
   "outputs": [
    {
     "name": "stdout",
     "output_type": "stream",
     "text": [
      "{'alpha': 0.0001, 'random_state': 0}\n"
     ]
    }
   ],
   "source": [
    "parameters={\"alpha\":[0.0001,.001,0.1,1,10],\"random_state\":list(range(0,100))}\n",
    "ls=Lasso()\n",
    "clf=GridSearchCV(ls,parameters)\n",
    "clf.fit(x_train,y_train)\n",
    "print(clf.best_params_)"
   ]
  },
  {
   "cell_type": "code",
   "execution_count": 59,
   "id": "bc7b5bed",
   "metadata": {},
   "outputs": [
    {
     "data": {
      "text/plain": [
       "0.5152605748067653"
      ]
     },
     "execution_count": 59,
     "metadata": {},
     "output_type": "execute_result"
    }
   ],
   "source": [
    "ls=Lasso(alpha=0.0001,random_state=0)\n",
    "ls.fit(x_train,y_train)\n",
    "ls.score(x_train,y_train)\n",
    "pred_ls=ls.predict(x_test)\n",
    "lss=r2_score(y_test,pred_ls)\n",
    "lss"
   ]
  },
  {
   "cell_type": "code",
   "execution_count": 60,
   "id": "552aa926",
   "metadata": {
    "scrolled": true
   },
   "outputs": [
    {
     "name": "stdout",
     "output_type": "stream",
     "text": [
      "Score = 45.24473672288745 at cv = 2\n",
      "Score = 43.665321256814195 at cv = 3\n",
      "Score = 37.11631069921468 at cv = 4\n",
      "Score = 35.299339745189656 at cv = 5\n",
      "Score = 36.532959170918986 at cv = 6\n",
      "Score = 36.70417067997111 at cv = 7\n",
      "Score = 34.674954888162304 at cv = 8\n",
      "Score = 36.75057262053394 at cv = 9\n"
     ]
    }
   ],
   "source": [
    "for i in range(2,10):\n",
    "    lss_cv=cross_val_score(ls,x,y,cv=i)\n",
    "    lssc=lss_cv.mean()\n",
    "    print(\"Score =\",lssc*100,\"at cv =\",i)"
   ]
  },
  {
   "cell_type": "markdown",
   "id": "58f219cf",
   "metadata": {},
   "source": [
    "Ensembling"
   ]
  },
  {
   "cell_type": "code",
   "execution_count": 61,
   "id": "22d21146",
   "metadata": {},
   "outputs": [
    {
     "name": "stdout",
     "output_type": "stream",
     "text": [
      "{'loss': 'linear', 'random_state': 29}\n"
     ]
    }
   ],
   "source": [
    "from sklearn.model_selection import GridSearchCV\n",
    "from sklearn.ensemble import AdaBoostRegressor \n",
    "\n",
    "parameters={\"loss\":[\"linear\", \"square\", \"exponential\"],\"random_state\":list(range(0,100))}\n",
    "Ad=AdaBoostRegressor()\n",
    "clf=GridSearchCV(Ad,parameters)\n",
    "clf.fit(x_train,y_train)\n",
    "print(clf.best_params_)"
   ]
  },
  {
   "cell_type": "code",
   "execution_count": 62,
   "id": "ef5f1f88",
   "metadata": {},
   "outputs": [
    {
     "data": {
      "text/plain": [
       "0.35770186114581837"
      ]
     },
     "execution_count": 62,
     "metadata": {},
     "output_type": "execute_result"
    }
   ],
   "source": [
    "Ad=AdaBoostRegressor(loss=\"linear\",random_state=29,learning_rate=2)\n",
    "Ad.fit(x_train,y_train)\n",
    "Ad.score(x_train,y_train)\n",
    "pred_ad=Ad.predict(x_test)\n",
    "r2_ad=r2_score(y_test,pred_ad)\n",
    "r2_ad"
   ]
  },
  {
   "cell_type": "code",
   "execution_count": 63,
   "id": "894fdb2c",
   "metadata": {},
   "outputs": [
    {
     "name": "stdout",
     "output_type": "stream",
     "text": [
      "Score = 26.450026396449474 at cv = 2\n",
      "Score = 31.466027242413535 at cv = 3\n",
      "Score = 9.733707709406087 at cv = 4\n",
      "Score = 16.105456787209384 at cv = 5\n",
      "Score = 7.030065436079671 at cv = 6\n",
      "Score = 10.585061693828864 at cv = 7\n",
      "Score = 7.082271660703195 at cv = 8\n",
      "Score = 7.348217656116257 at cv = 9\n"
     ]
    }
   ],
   "source": [
    "for i in range(2,10):\n",
    "    ad_cv=cross_val_score(Ad,x,y,cv=i)\n",
    "    Ads=ad_cv.mean()\n",
    "    print(\"Score =\",Ads*100,\"at cv =\",i)"
   ]
  },
  {
   "cell_type": "code",
   "execution_count": 64,
   "id": "32bb6268",
   "metadata": {},
   "outputs": [
    {
     "name": "stdout",
     "output_type": "stream",
     "text": [
      "{'criterion': 'mse', 'max_features': 'sqrt'}\n"
     ]
    }
   ],
   "source": [
    "from sklearn.ensemble import RandomForestRegressor\n",
    "parameters={\"criterion\":[\"mse\",\"mae\"],\"max_features\":[\"auto\",\"sqrt\",\"log2\"]}\n",
    "rf=RandomForestRegressor()\n",
    "clf=GridSearchCV(rf,parameters)\n",
    "clf.fit(x_train,y_train)\n",
    "print(clf.best_params_)"
   ]
  },
  {
   "cell_type": "code",
   "execution_count": 65,
   "id": "dfc1e303",
   "metadata": {},
   "outputs": [
    {
     "name": "stdout",
     "output_type": "stream",
     "text": [
      "score_test = 50.99183796622098 random_state = 1\n",
      "\n",
      "\n",
      "score_test = 50.35949573363829 random_state = 2\n",
      "\n",
      "\n",
      "score_test = 51.786812368050676 random_state = 3\n",
      "\n",
      "\n",
      "score_test = 51.02416885116116 random_state = 4\n",
      "\n",
      "\n",
      "score_test = 50.81999005981703 random_state = 5\n",
      "\n",
      "\n",
      "score_test = 50.26490627199156 random_state = 6\n",
      "\n",
      "\n",
      "score_test = 51.26498970795216 random_state = 7\n",
      "\n",
      "\n",
      "score_test = 50.78521837614356 random_state = 8\n",
      "\n",
      "\n",
      "score_test = 50.74864439655173 random_state = 9\n",
      "\n",
      "\n",
      "score_test = 50.479106351161164 random_state = 10\n",
      "\n",
      "\n",
      "score_test = 51.46213111365236 random_state = 11\n",
      "\n",
      "\n",
      "score_test = 50.53578307529909 random_state = 12\n",
      "\n",
      "\n",
      "score_test = 50.55620012315272 random_state = 13\n",
      "\n",
      "\n",
      "score_test = 51.18880124032372 random_state = 14\n",
      "\n",
      "\n",
      "score_test = 51.11323662913443 random_state = 15\n",
      "\n",
      "\n",
      "score_test = 50.75972972378607 random_state = 16\n",
      "\n",
      "\n",
      "score_test = 51.30371749648136 random_state = 17\n",
      "\n",
      "\n",
      "score_test = 50.34445786418016 random_state = 18\n",
      "\n",
      "\n",
      "score_test = 50.51878061224491 random_state = 19\n",
      "\n",
      "\n",
      "score_test = 50.33031302779734 random_state = 20\n",
      "\n",
      "\n",
      "score_test = 50.4798774630542 random_state = 21\n",
      "\n",
      "\n",
      "score_test = 50.17456148838847 random_state = 22\n",
      "\n",
      "\n",
      "score_test = 50.88496336206898 random_state = 23\n",
      "\n",
      "\n",
      "score_test = 50.42602986453202 random_state = 24\n",
      "\n",
      "\n",
      "score_test = 50.74220157459537 random_state = 25\n",
      "\n",
      "\n",
      "score_test = 50.51459135292049 random_state = 26\n",
      "\n",
      "\n",
      "score_test = 51.22539105383533 random_state = 27\n",
      "\n",
      "\n",
      "score_test = 51.120773179099245 random_state = 28\n",
      "\n",
      "\n",
      "score_test = 50.82928298733287 random_state = 29\n",
      "\n",
      "\n",
      "score_test = 51.015899190710776 random_state = 30\n",
      "\n",
      "\n",
      "score_test = 50.77068719211824 random_state = 31\n",
      "\n",
      "\n",
      "score_test = 50.441726029204794 random_state = 32\n",
      "\n",
      "\n",
      "score_test = 50.69786382828995 random_state = 33\n",
      "\n",
      "\n",
      "score_test = 51.071626275510205 random_state = 34\n",
      "\n",
      "\n",
      "score_test = 51.39341625615764 random_state = 35\n",
      "\n",
      "\n",
      "score_test = 50.81965873504575 random_state = 36\n",
      "\n",
      "\n",
      "score_test = 50.56936879838143 random_state = 37\n",
      "\n",
      "\n",
      "score_test = 51.35918213406052 random_state = 38\n",
      "\n",
      "\n",
      "score_test = 51.141068701618586 random_state = 39\n",
      "\n",
      "\n",
      "score_test = 50.97770935960592 random_state = 40\n",
      "\n",
      "\n",
      "score_test = 50.412825167135836 random_state = 41\n",
      "\n",
      "\n",
      "score_test = 50.50671556122449 random_state = 42\n",
      "\n",
      "\n",
      "score_test = 50.93915534834624 random_state = 43\n",
      "\n",
      "\n",
      "score_test = 52.336803175580584 random_state = 44\n",
      "\n",
      "\n",
      "score_test = 50.85789685960593 random_state = 45\n",
      "\n",
      "\n",
      "score_test = 50.922070548909225 random_state = 46\n",
      "\n",
      "\n",
      "score_test = 50.77751636171711 random_state = 47\n",
      "\n",
      "\n",
      "score_test = 51.02887271287826 random_state = 48\n",
      "\n",
      "\n",
      "score_test = 50.3047851864884 random_state = 49\n",
      "\n",
      "\n",
      "score_test = 51.175567250175945 random_state = 50\n",
      "\n",
      "\n",
      "score_test = 50.09726306298382 random_state = 51\n",
      "\n",
      "\n",
      "score_test = 50.88144744018297 random_state = 52\n",
      "\n",
      "\n",
      "score_test = 51.131801900070386 random_state = 53\n",
      "\n",
      "\n",
      "score_test = 49.85927172765658 random_state = 54\n",
      "\n",
      "\n",
      "score_test = 50.70130453905701 random_state = 55\n",
      "\n",
      "\n",
      "score_test = 50.22123513370866 random_state = 56\n",
      "\n",
      "\n",
      "score_test = 50.63847792047854 random_state = 57\n",
      "\n",
      "\n",
      "score_test = 50.78636118930332 random_state = 58\n",
      "\n",
      "\n",
      "score_test = 50.803400466220985 random_state = 59\n",
      "\n",
      "\n",
      "score_test = 50.83892901125968 random_state = 60\n",
      "\n",
      "\n",
      "score_test = 50.81413428043633 random_state = 61\n",
      "\n",
      "\n",
      "score_test = 50.62539395672063 random_state = 62\n",
      "\n",
      "\n",
      "score_test = 50.34823544159044 random_state = 63\n",
      "\n",
      "\n",
      "score_test = 50.95560402005631 random_state = 64\n",
      "\n",
      "\n",
      "score_test = 50.47477141977481 random_state = 65\n",
      "\n",
      "\n",
      "score_test = 51.04285881421535 random_state = 66\n",
      "\n",
      "\n",
      "score_test = 49.88999705313161 random_state = 67\n",
      "\n",
      "\n",
      "score_test = 50.35288665552429 random_state = 68\n",
      "\n",
      "\n",
      "score_test = 50.592472070724845 random_state = 69\n",
      "\n",
      "\n",
      "score_test = 50.45083488740325 random_state = 70\n",
      "\n",
      "\n",
      "score_test = 50.723136347642516 random_state = 71\n",
      "\n",
      "\n",
      "score_test = 50.73726020408165 random_state = 72\n",
      "\n",
      "\n",
      "score_test = 51.20514184553133 random_state = 73\n",
      "\n",
      "\n",
      "score_test = 50.368647343420136 random_state = 74\n",
      "\n",
      "\n",
      "score_test = 50.20132833391979 random_state = 75\n",
      "\n",
      "\n",
      "score_test = 50.4899739619986 random_state = 76\n",
      "\n",
      "\n",
      "score_test = 50.28273724489798 random_state = 77\n",
      "\n",
      "\n",
      "score_test = 50.60648311048559 random_state = 78\n",
      "\n",
      "\n",
      "score_test = 50.7435359781844 random_state = 79\n",
      "\n",
      "\n",
      "score_test = 50.68029411505982 random_state = 80\n",
      "\n",
      "\n",
      "score_test = 50.565005365939484 random_state = 81\n",
      "\n",
      "\n",
      "score_test = 50.3089194229416 random_state = 82\n",
      "\n",
      "\n",
      "score_test = 50.02094950738917 random_state = 83\n",
      "\n",
      "\n",
      "score_test = 51.15278738564392 random_state = 84\n",
      "\n",
      "\n",
      "score_test = 50.18599793279381 random_state = 85\n",
      "\n",
      "\n",
      "score_test = 51.49714822308235 random_state = 86\n",
      "\n",
      "\n",
      "score_test = 50.37721428571429 random_state = 87\n",
      "\n",
      "\n",
      "score_test = 50.8533481703026 random_state = 88\n",
      "\n",
      "\n",
      "score_test = 51.198594915552434 random_state = 89\n",
      "\n",
      "\n",
      "score_test = 50.67923799261085 random_state = 90\n",
      "\n",
      "\n",
      "score_test = 50.17421551724139 random_state = 91\n",
      "\n",
      "\n",
      "score_test = 50.59080040464463 random_state = 92\n",
      "\n",
      "\n",
      "score_test = 50.58703430682618 random_state = 93\n",
      "\n",
      "\n",
      "score_test = 50.408918939127375 random_state = 94\n",
      "\n",
      "\n",
      "score_test = 50.728160846235056 random_state = 95\n",
      "\n",
      "\n",
      "score_test = 50.0977986453202 random_state = 96\n",
      "\n",
      "\n",
      "score_test = 51.21268868754398 random_state = 97\n",
      "\n",
      "\n",
      "score_test = 50.4707155612245 random_state = 98\n",
      "\n",
      "\n",
      "score_test = 50.70109869809993 random_state = 99\n",
      "\n",
      "\n"
     ]
    }
   ],
   "source": [
    "for i in range(1,100):\n",
    "    rf=RandomForestRegressor(criterion=\"mae\",max_features=\"log2\",random_state=i)\n",
    "    rf.fit(x_train,y_train)\n",
    "    rf.score(x_train,y_train)\n",
    "    pred_rf_test=rf.predict(x_test)\n",
    "    rf2=r2_score(y_test,pred_rf_test)\n",
    "    print(\"score_test =\", rf2*100,\"random_state =\",i)\n",
    "    print(\"\\n\")"
   ]
  },
  {
   "cell_type": "code",
   "execution_count": 66,
   "id": "6b04d875",
   "metadata": {},
   "outputs": [
    {
     "name": "stdout",
     "output_type": "stream",
     "text": [
      "score_test = 52.336803175580584\n"
     ]
    }
   ],
   "source": [
    "rf=RandomForestRegressor(criterion=\"mae\",max_features=\"sqrt\",random_state=44)\n",
    "rf.fit(x_train,y_train)\n",
    "rf.score(x_train,y_train)\n",
    "pred_rf_test=rf.predict(x_test)\n",
    "rf2=r2_score(y_test,pred_rf_test)\n",
    "print(\"score_test =\", rf2*100)"
   ]
  },
  {
   "cell_type": "code",
   "execution_count": 67,
   "id": "8dec4502",
   "metadata": {},
   "outputs": [
    {
     "name": "stdout",
     "output_type": "stream",
     "text": [
      "Score = 46.52113668095288 at cv = 2\n",
      "Score = 45.77304673561069 at cv = 3\n",
      "Score = 39.21541299304908 at cv = 4\n",
      "Score = 38.28418328124975 at cv = 5\n",
      "Score = 39.35651459228879 at cv = 6\n",
      "Score = 40.51688553488155 at cv = 7\n",
      "Score = 37.166359431152166 at cv = 8\n",
      "Score = 40.166528747206144 at cv = 9\n",
      "Score = 34.90323422645064 at cv = 10\n"
     ]
    }
   ],
   "source": [
    "for i in range(2,11):\n",
    "    rf_cv=cross_val_score(rf,x,y,cv=i)\n",
    "    rfs=rf_cv.mean()\n",
    "    print(\"Score =\",rfs*100,\"at cv =\",i)"
   ]
  },
  {
   "cell_type": "code",
   "execution_count": 68,
   "id": "587e5981",
   "metadata": {},
   "outputs": [
    {
     "name": "stdout",
     "output_type": "stream",
     "text": [
      "Score = 46.52113668095288\n"
     ]
    }
   ],
   "source": [
    "rf_cv=cross_val_score(rf,x,y,cv=2)\n",
    "rfs=rf_cv.mean()\n",
    "print(\"Score =\",rfs*100)"
   ]
  },
  {
   "cell_type": "markdown",
   "id": "ebdf8e09",
   "metadata": {},
   "source": [
    "Model accuray is 52.3%\n",
    "cross validation is 46.5%"
   ]
  },
  {
   "cell_type": "code",
   "execution_count": 69,
   "id": "1438b032",
   "metadata": {},
   "outputs": [
    {
     "data": {
      "image/png": "[encoded data removed]",
      "text/plain": [
       "<Figure size 576x432 with 1 Axes>"
      ]
     },
     "metadata": {
      "needs_background": "light"
     },
     "output_type": "display_data"
    }
   ],
   "source": [
    "plt.figure(figsize=(8,6))\n",
    "plt.scatter(x=y_test,y=pred_rf_test,color=\"r\")\n",
    "plt.plot(y_test,y_test,color=\"b\")\n",
    "plt.xlabel(\"Actual rings\",fontsize=14)\n",
    "plt.ylabel(\"Predicted rings\",fontsize=14)\n",
    "plt.title(\"Random Forest\",fontsize=18)\n",
    "plt.show()"
   ]
  },
  {
   "cell_type": "markdown",
   "id": "efee5dc6",
   "metadata": {},
   "source": [
    "We know from the problem statement that age= rings +1.5"
   ]
  },
  {
   "cell_type": "markdown",
   "id": "b8040255",
   "metadata": {},
   "source": [
    "# Model saving"
   ]
  },
  {
   "cell_type": "code",
   "execution_count": 71,
   "id": "69ec4654",
   "metadata": {},
   "outputs": [],
   "source": [
    "import pickle \n",
    "filename= \"Abalone.pkl\"\n",
    "pickle.dump(rf, open(filename,\"wb\"))"
   ]
  },
  {
   "cell_type": "markdown",
   "id": "770bb2da",
   "metadata": {},
   "source": [
    "# Conclusion"
   ]
  },
  {
   "cell_type": "code",
   "execution_count": 72,
   "id": "663dac09",
   "metadata": {},
   "outputs": [
    {
     "data": {
      "text/html": [
       "<div>\n",
       "<style scoped>\n",
       "    .dataframe tbody tr th:only-of-type {\n",
       "        vertical-align: middle;\n",
       "    }\n",
       "\n",
       "    .dataframe tbody tr th {\n",
       "        vertical-align: top;\n",
       "    }\n",
       "\n",
       "    .dataframe thead th {\n",
       "        text-align: right;\n",
       "    }\n",
       "</style>\n",
       "<table border=\"1\" class=\"dataframe\">\n",
       "  <thead>\n",
       "    <tr style=\"text-align: right;\">\n",
       "      <th></th>\n",
       "      <th>original</th>\n",
       "      <th>predicted</th>\n",
       "    </tr>\n",
       "  </thead>\n",
       "  <tbody>\n",
       "    <tr>\n",
       "      <th>0</th>\n",
       "      <td>8</td>\n",
       "      <td>6.22</td>\n",
       "    </tr>\n",
       "    <tr>\n",
       "      <th>1</th>\n",
       "      <td>12</td>\n",
       "      <td>13.63</td>\n",
       "    </tr>\n",
       "    <tr>\n",
       "      <th>2</th>\n",
       "      <td>11</td>\n",
       "      <td>10.01</td>\n",
       "    </tr>\n",
       "    <tr>\n",
       "      <th>3</th>\n",
       "      <td>6</td>\n",
       "      <td>6.77</td>\n",
       "    </tr>\n",
       "    <tr>\n",
       "      <th>4</th>\n",
       "      <td>9</td>\n",
       "      <td>8.51</td>\n",
       "    </tr>\n",
       "    <tr>\n",
       "      <th>...</th>\n",
       "      <td>...</td>\n",
       "      <td>...</td>\n",
       "    </tr>\n",
       "    <tr>\n",
       "      <th>805</th>\n",
       "      <td>11</td>\n",
       "      <td>10.33</td>\n",
       "    </tr>\n",
       "    <tr>\n",
       "      <th>806</th>\n",
       "      <td>7</td>\n",
       "      <td>6.53</td>\n",
       "    </tr>\n",
       "    <tr>\n",
       "      <th>807</th>\n",
       "      <td>10</td>\n",
       "      <td>9.25</td>\n",
       "    </tr>\n",
       "    <tr>\n",
       "      <th>808</th>\n",
       "      <td>9</td>\n",
       "      <td>8.40</td>\n",
       "    </tr>\n",
       "    <tr>\n",
       "      <th>809</th>\n",
       "      <td>9</td>\n",
       "      <td>7.70</td>\n",
       "    </tr>\n",
       "  </tbody>\n",
       "</table>\n",
       "<p>810 rows × 2 columns</p>\n",
       "</div>"
      ],
      "text/plain": [
       "     original  predicted\n",
       "0           8       6.22\n",
       "1          12      13.63\n",
       "2          11      10.01\n",
       "3           6       6.77\n",
       "4           9       8.51\n",
       "..        ...        ...\n",
       "805        11      10.33\n",
       "806         7       6.53\n",
       "807        10       9.25\n",
       "808         9       8.40\n",
       "809         9       7.70\n",
       "\n",
       "[810 rows x 2 columns]"
      ]
     },
     "execution_count": 72,
     "metadata": {},
     "output_type": "execute_result"
    }
   ],
   "source": [
    "a=np.array(y_test)\n",
    "predicted = np.array(rf.predict(x_test))\n",
    "df_com=pd.DataFrame({\"original\":a,\"predicted\":predicted}, index=range(len(a)))\n",
    "df_com"
   ]
  },
  {
   "cell_type": "code",
   "execution_count": null,
   "id": "4d80f8e5",
   "metadata": {},
   "outputs": [],
   "source": []
  }
 ],
 "metadata": {
  "kernelspec": {
   "display_name": "Python 3",
   "language": "python",
   "name": "python3"
  },
  "language_info": {
   "codemirror_mode": {
    "name": "ipython",
    "version": 3
   },
   "file_extension": ".py",
   "mimetype": "text/x-python",
   "name": "python",
   "nbconvert_exporter": "python",
   "pygments_lexer": "ipython3",
   "version": "3.8.8"
  }
 },
 "nbformat": 4,
 "nbformat_minor": 5
}
